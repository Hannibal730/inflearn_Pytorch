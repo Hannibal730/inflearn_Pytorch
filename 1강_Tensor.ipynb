{
  "nbformat": 4,
  "nbformat_minor": 0,
  "metadata": {
    "kernelspec": {
      "display_name": "Python 3",
      "language": "python",
      "name": "python3"
    },
    "language_info": {
      "codemirror_mode": {
        "name": "ipython",
        "version": 3
      },
      "file_extension": ".py",
      "mimetype": "text/x-python",
      "name": "python",
      "nbconvert_exporter": "python",
      "pygments_lexer": "ipython3",
      "version": "3.7.4"
    },
    "colab": {
      "provenance": [],
      "include_colab_link": true
    }
  },
  "cells": [
    {
      "cell_type": "markdown",
      "metadata": {
        "id": "view-in-github",
        "colab_type": "text"
      },
      "source": [
        "<a href=\"https://colab.research.google.com/github/Hannibal730/inflearn_Pytorch/blob/main/1%EA%B0%95_Tensor.ipynb\" target=\"_parent\"><img src=\"https://colab.research.google.com/assets/colab-badge.svg\" alt=\"Open In Colab\"/></a>"
      ]
    },
    {
      "cell_type": "markdown",
      "metadata": {
        "id": "v2Fwa0XhqPkY"
      },
      "source": [
        "# 1. 텐서\n",
        "\n",
        "텐서(Tensor)는 파이토치의 기본 단위이며 GPU 연산을 가능하게 한다. 또한 Numpy의 배열과 유사하여 손쉽게 다룰 수 있다."
      ]
    },
    {
      "cell_type": "markdown",
      "metadata": {
        "id": "qeQBiZD1qPkj"
      },
      "source": [
        "## 1.1 텐서 만들기"
      ]
    },
    {
      "cell_type": "code",
      "metadata": {
        "id": "7hdbxeneqPkk"
      },
      "source": [
        "# 라이브러리 불러오기\n",
        "import torch # Pytorch를 사용하기 위한 기본 라이브러리다.\n",
        "import numpy as np # Numpy를 사용하기 위한 기본 라이브러리다. 여기서 \"as np\"는 numpy를 np로 짧게 표기하겠다는 뜻이다."
      ],
      "execution_count": 1,
      "outputs": []
    },
    {
      "cell_type": "code",
      "metadata": {
        "id": "2nwB6JdLqPkk",
        "colab": {
          "base_uri": "https://localhost:8080/"
        },
        "outputId": "eb335a7c-71ad-4556-ac27-d9e08bd86134"
      },
      "source": [
        "# 빈 텐서 생성\n",
        "x = torch.empty(5,4) # 5x4 행렬 생성\n",
        "print(x) # 초기화되지 않은 행렬인 경우 해당 시점에 할당된 메모리에 존재하던 값들이 초기값으로 나타난다."
      ],
      "execution_count": 2,
      "outputs": [
        {
          "output_type": "stream",
          "name": "stdout",
          "text": [
            "tensor([[2.0596e-19, 1.8319e+25, 4.5448e+30, 2.6800e+20],\n",
            "        [1.8470e+31, 4.6304e+27, 1.7863e+25, 3.7393e-14],\n",
            "        [2.7255e+20, 1.8467e+20, 7.3881e+31, 3.0356e+32],\n",
            "        [4.9639e+28, 2.1127e-19, 1.2708e+31, 5.0850e+31],\n",
            "        [4.2016e+30, 3.2532e+33, 1.1478e-32, 1.3563e-19]])\n"
          ]
        }
      ]
    },
    {
      "cell_type": "code",
      "metadata": {
        "id": "U37TyT3SqPkm",
        "colab": {
          "base_uri": "https://localhost:8080/"
        },
        "outputId": "43f4655b-b8f7-4b48-8245-2ecdefd8c809"
      },
      "source": [
        "torch.ones(3,3) # 3x3 일 행렬"
      ],
      "execution_count": 3,
      "outputs": [
        {
          "output_type": "execute_result",
          "data": {
            "text/plain": [
              "tensor([[1., 1., 1.],\n",
              "        [1., 1., 1.],\n",
              "        [1., 1., 1.]])"
            ]
          },
          "metadata": {},
          "execution_count": 3
        }
      ]
    },
    {
      "cell_type": "code",
      "metadata": {
        "id": "3jAY9hU0qPkn",
        "colab": {
          "base_uri": "https://localhost:8080/"
        },
        "outputId": "0697011c-dde0-42fc-be02-ac00677661cd"
      },
      "source": [
        "torch.zeros(2) # 2행 영 벡터"
      ],
      "execution_count": 4,
      "outputs": [
        {
          "output_type": "execute_result",
          "data": {
            "text/plain": [
              "tensor([0., 0.])"
            ]
          },
          "metadata": {},
          "execution_count": 4
        }
      ]
    },
    {
      "cell_type": "code",
      "metadata": {
        "id": "2ubo6x0eqPko",
        "colab": {
          "base_uri": "https://localhost:8080/"
        },
        "outputId": "15fe1f76-6cfa-4abc-9dae-4f5ec06e49fb"
      },
      "source": [
        "torch.rand(5,6) # 5x6 랜덤 행렬"
      ],
      "execution_count": 5,
      "outputs": [
        {
          "output_type": "execute_result",
          "data": {
            "text/plain": [
              "tensor([[0.0184, 0.8074, 0.0450, 0.0912, 0.0976, 0.2968],\n",
              "        [0.8574, 0.6665, 0.0598, 0.9036, 0.9514, 0.1255],\n",
              "        [0.2446, 0.2634, 0.0964, 0.3592, 0.0321, 0.1964],\n",
              "        [0.9225, 0.2863, 0.2132, 0.7759, 0.3166, 0.1462],\n",
              "        [0.3636, 0.9485, 0.9472, 0.3932, 0.5068, 0.2459]])"
            ]
          },
          "metadata": {},
          "execution_count": 5
        }
      ]
    },
    {
      "cell_type": "markdown",
      "metadata": {
        "id": "REDrqqr0qPko"
      },
      "source": [
        "## 1.2 리스트, 넘파이 배열을 텐서로 만들기"
      ]
    },
    {
      "cell_type": "code",
      "metadata": {
        "id": "rqgWxNvYqPko"
      },
      "source": [
        "l = [13,4] # 리스트 생성\n",
        "r = np.array([4,56,7]) # 넘파이 배열 생성"
      ],
      "execution_count": 6,
      "outputs": []
    },
    {
      "cell_type": "code",
      "metadata": {
        "id": "u1GQ5hc9qPkp",
        "colab": {
          "base_uri": "https://localhost:8080/"
        },
        "outputId": "37cfce85-6a16-4b43-a1ea-90bc473070ab"
      },
      "source": [
        "torch.tensor(l) # 리스트를 텐서로 쉽게 변환할 수 있다."
      ],
      "execution_count": 7,
      "outputs": [
        {
          "output_type": "execute_result",
          "data": {
            "text/plain": [
              "tensor([13,  4])"
            ]
          },
          "metadata": {},
          "execution_count": 7
        }
      ]
    },
    {
      "cell_type": "code",
      "metadata": {
        "id": "bZ2uvGXaqPkp",
        "colab": {
          "base_uri": "https://localhost:8080/"
        },
        "outputId": "d4749dab-756c-40e8-a40a-911ea73ced69"
      },
      "source": [
        "torch.tensor(r) #넘파이 배열을 텐서로 쉽게 변환할 수 있다."
      ],
      "execution_count": 8,
      "outputs": [
        {
          "output_type": "execute_result",
          "data": {
            "text/plain": [
              "tensor([ 4, 56,  7])"
            ]
          },
          "metadata": {},
          "execution_count": 8
        }
      ]
    },
    {
      "cell_type": "code",
      "source": [
        "torch.FloatTensor(r)"
      ],
      "metadata": {
        "colab": {
          "base_uri": "https://localhost:8080/"
        },
        "id": "cXlPQxxkIk-d",
        "outputId": "bf3c932a-39f1-48b1-b910-c69fbc353b70"
      },
      "execution_count": 9,
      "outputs": [
        {
          "output_type": "execute_result",
          "data": {
            "text/plain": [
              "tensor([ 4., 56.,  7.])"
            ]
          },
          "metadata": {},
          "execution_count": 9
        }
      ]
    },
    {
      "cell_type": "markdown",
      "metadata": {
        "id": "dGAqghDlqPkq"
      },
      "source": [
        "## 1.3 텐서의 크기와 타입 확인하기"
      ]
    },
    {
      "cell_type": "code",
      "source": [
        "x.size()"
      ],
      "metadata": {
        "colab": {
          "base_uri": "https://localhost:8080/"
        },
        "id": "7kDeGkkkI7jG",
        "outputId": "8586780a-c9e0-4244-b81a-b5f7268f1ca7"
      },
      "execution_count": null,
      "outputs": [
        {
          "output_type": "execute_result",
          "data": {
            "text/plain": [
              "torch.Size([5, 4])"
            ]
          },
          "metadata": {},
          "execution_count": 12
        }
      ]
    },
    {
      "cell_type": "code",
      "source": [
        "x.shape"
      ],
      "metadata": {
        "colab": {
          "base_uri": "https://localhost:8080/"
        },
        "id": "N07QLlrvJJwM",
        "outputId": "18b322d3-c6e0-4a61-af72-751b2ab21d71"
      },
      "execution_count": null,
      "outputs": [
        {
          "output_type": "execute_result",
          "data": {
            "text/plain": [
              "torch.Size([5, 4])"
            ]
          },
          "metadata": {},
          "execution_count": 14
        }
      ]
    },
    {
      "cell_type": "code",
      "metadata": {
        "id": "pHaxxIDYqPkr",
        "colab": {
          "base_uri": "https://localhost:8080/"
        },
        "outputId": "d4cd8aae-2cc1-497d-ea6b-f35b65d0e61b"
      },
      "source": [
        "x.size()[1] # .size()는 텐서의 크기를 확인할 수 있으며 매우 자주 사용된다."
      ],
      "execution_count": 10,
      "outputs": [
        {
          "output_type": "execute_result",
          "data": {
            "text/plain": [
              "4"
            ]
          },
          "metadata": {},
          "execution_count": 10
        }
      ]
    },
    {
      "cell_type": "code",
      "metadata": {
        "id": "ChG3WAk9qPkr",
        "colab": {
          "base_uri": "https://localhost:8080/"
        },
        "outputId": "e8df1ae6-952b-4257-ea6e-4a636582b17e"
      },
      "source": [
        "type(x) # type은 Python에서 사용되는 모든 것들을 종류를 보여준다."
      ],
      "execution_count": 11,
      "outputs": [
        {
          "output_type": "execute_result",
          "data": {
            "text/plain": [
              "torch.Tensor"
            ]
          },
          "metadata": {},
          "execution_count": 11
        }
      ]
    },
    {
      "cell_type": "markdown",
      "metadata": {
        "id": "rgeSJpWqqPks"
      },
      "source": [
        "## 1.4 텐서의 덧셈"
      ]
    },
    {
      "cell_type": "code",
      "metadata": {
        "id": "utF2VLF0qPks",
        "colab": {
          "base_uri": "https://localhost:8080/"
        },
        "outputId": "8e97b12f-d010-4c4a-a5ee-e8edded75c7e"
      },
      "source": [
        "x = torch.rand(2,2) # 2x2 랜덤 행렬\n",
        "y = torch.rand(2,2) # 2x2 랜덤 행렬\n",
        "print(x)\n",
        "print(y)"
      ],
      "execution_count": 12,
      "outputs": [
        {
          "output_type": "stream",
          "name": "stdout",
          "text": [
            "tensor([[0.4077, 0.9716],\n",
            "        [0.1015, 0.4615]])\n",
            "tensor([[0.6972, 0.4943],\n",
            "        [0.4392, 0.9241]])\n"
          ]
        }
      ]
    },
    {
      "cell_type": "code",
      "metadata": {
        "id": "CDkj3R-mqPkt",
        "colab": {
          "base_uri": "https://localhost:8080/"
        },
        "outputId": "506a64e5-e3fa-4fa3-9b44-b8f0c8df4f36"
      },
      "source": [
        "x+y # 두 텐서의 합"
      ],
      "execution_count": 13,
      "outputs": [
        {
          "output_type": "execute_result",
          "data": {
            "text/plain": [
              "tensor([[1.1049, 1.4659],\n",
              "        [0.5407, 1.3856]])"
            ]
          },
          "metadata": {},
          "execution_count": 13
        }
      ]
    },
    {
      "cell_type": "code",
      "metadata": {
        "id": "9ue0Vm_oqPku",
        "colab": {
          "base_uri": "https://localhost:8080/"
        },
        "outputId": "684a73c3-48e0-4ff2-aad8-518ec5da9474"
      },
      "source": [
        "torch.add(x,y) # 두 텐서의 합의 또 다른 표현"
      ],
      "execution_count": 14,
      "outputs": [
        {
          "output_type": "execute_result",
          "data": {
            "text/plain": [
              "tensor([[1.1049, 1.4659],\n",
              "        [0.5407, 1.3856]])"
            ]
          },
          "metadata": {},
          "execution_count": 14
        }
      ]
    },
    {
      "cell_type": "code",
      "metadata": {
        "id": "GK84TDykqPkv",
        "colab": {
          "base_uri": "https://localhost:8080/"
        },
        "outputId": "e0958f24-454f-46a3-cca0-56dfd3661046"
      },
      "source": [
        "y.add(x) # 두 텐서의 합의 또 다른 표현이지만 이는 y에 x를 더한다는 의미다."
      ],
      "execution_count": 15,
      "outputs": [
        {
          "output_type": "execute_result",
          "data": {
            "text/plain": [
              "tensor([[1.1049, 1.4659],\n",
              "        [0.5407, 1.3856]])"
            ]
          },
          "metadata": {},
          "execution_count": 15
        }
      ]
    },
    {
      "cell_type": "code",
      "metadata": {
        "id": "pt1PYwPfqPkv",
        "colab": {
          "base_uri": "https://localhost:8080/"
        },
        "outputId": "7a5777ab-35ab-4019-b1c8-6a4025fab825"
      },
      "source": [
        "print(\"원래 y: \", y)\n",
        "y.add_(x)\n",
        "print(\"y=y+x: \",y)\n",
        "\n",
        "# y = y+x\n",
        "# y.add_는 y에 x를 더한 값을 y에 대체한다.(inplace 방식)"
      ],
      "execution_count": 16,
      "outputs": [
        {
          "output_type": "stream",
          "name": "stdout",
          "text": [
            "원래 y:  tensor([[0.6972, 0.4943],\n",
            "        [0.4392, 0.9241]])\n",
            "y=y+x:  tensor([[1.1049, 1.4659],\n",
            "        [0.5407, 1.3856]])\n"
          ]
        }
      ]
    },
    {
      "cell_type": "markdown",
      "metadata": {
        "id": "mZ0Pig0BqPkw"
      },
      "source": [
        "## 1.5 텐서의 크기 변환하기"
      ]
    },
    {
      "cell_type": "code",
      "metadata": {
        "id": "ap1AmnEVqPkw",
        "colab": {
          "base_uri": "https://localhost:8080/"
        },
        "outputId": "40ebe2e5-2cc7-412d-9591-7a43387fe9ec"
      },
      "source": [
        "x = torch.rand(8,8) # 8x8 랜덤 행렬\n",
        "print(x.size())"
      ],
      "execution_count": 17,
      "outputs": [
        {
          "output_type": "stream",
          "name": "stdout",
          "text": [
            "torch.Size([8, 8])\n"
          ]
        }
      ]
    },
    {
      "cell_type": "code",
      "metadata": {
        "id": "bfhzcCPIqPkw",
        "colab": {
          "base_uri": "https://localhost:8080/"
        },
        "outputId": "92adb7e7-3349-49af-c3c7-c8bc9ac788e9"
      },
      "source": [
        "a = x.view(64) # 크기를 바꿔주는 view 8x8 -> 64\n",
        "print(a.size())"
      ],
      "execution_count": 18,
      "outputs": [
        {
          "output_type": "stream",
          "name": "stdout",
          "text": [
            "torch.Size([64])\n"
          ]
        }
      ]
    },
    {
      "cell_type": "code",
      "metadata": {
        "id": "5ASrMdtfqPkx",
        "colab": {
          "base_uri": "https://localhost:8080/"
        },
        "outputId": "0840d082-8b7e-45fc-8249-552845a6edf1"
      },
      "source": [
        "b = x.view(-1,4,4) # -1은 원래 크기가 되게 하는 값 8x8 -> -1x4x4 즉, 4x4x4이다.\n",
        "print(b.size())\n",
        "\n",
        "# 따라서 -1은 원래 크기가 되게 하는 값이 자동으로 지정되기 때문에 한 번만 사용할 수 있다.\n",
        "# 예를 들어 x.view(-1,-1,4)와 같은 선언은 오류가 난다."
      ],
      "execution_count": 19,
      "outputs": [
        {
          "output_type": "stream",
          "name": "stdout",
          "text": [
            "torch.Size([4, 4, 4])\n"
          ]
        }
      ]
    },
    {
      "cell_type": "markdown",
      "metadata": {
        "id": "2gsF5wWDqPkx"
      },
      "source": [
        "## 1.6 텐서에서 넘파이로 만들기"
      ]
    },
    {
      "cell_type": "code",
      "metadata": {
        "id": "Ncg53Qr6qPky",
        "colab": {
          "base_uri": "https://localhost:8080/"
        },
        "outputId": "76ec1224-6b86-4479-a328-9662e22b8e8d"
      },
      "source": [
        "x = torch.rand(8,8)\n",
        "y = x.numpy() # .numpy()로 매우 간단하게 넘파이 배열로 만들 수 있다.\n",
        "print(y)"
      ],
      "execution_count": 20,
      "outputs": [
        {
          "output_type": "stream",
          "name": "stdout",
          "text": [
            "[[0.9352267  0.36820227 0.02586251 0.686005   0.9973779  0.30574733\n",
            "  0.7032469  0.380862  ]\n",
            " [0.45304728 0.8799511  0.12292355 0.00318772 0.09545481 0.9360523\n",
            "  0.36333525 0.38211256]\n",
            " [0.8050812  0.25339276 0.6536441  0.69637954 0.34779602 0.5550628\n",
            "  0.26220167 0.8754887 ]\n",
            " [0.85279804 0.02530903 0.7681587  0.46149117 0.25784558 0.7480236\n",
            "  0.0492065  0.557991  ]\n",
            " [0.18363059 0.2897504  0.4534229  0.82021505 0.7195755  0.8156853\n",
            "  0.24653387 0.46960306]\n",
            " [0.6598872  0.5473448  0.20755702 0.42843038 0.70743865 0.50957817\n",
            "  0.08940315 0.3174159 ]\n",
            " [0.07710844 0.07841045 0.6422284  0.6029124  0.5007533  0.46375066\n",
            "  0.2761832  0.4893422 ]\n",
            " [0.4397719  0.10435015 0.9016447  0.9568851  0.26371938 0.2891\n",
            "  0.6844308  0.17594928]]\n"
          ]
        }
      ]
    },
    {
      "cell_type": "code",
      "metadata": {
        "id": "7U8WKqvGqPky",
        "colab": {
          "base_uri": "https://localhost:8080/"
        },
        "outputId": "e624c92c-8d1c-4f3c-8372-669c4463bf54"
      },
      "source": [
        "type(y)"
      ],
      "execution_count": 21,
      "outputs": [
        {
          "output_type": "execute_result",
          "data": {
            "text/plain": [
              "numpy.ndarray"
            ]
          },
          "metadata": {},
          "execution_count": 21
        }
      ]
    },
    {
      "cell_type": "markdown",
      "metadata": {
        "id": "zt40oVS_qPkz"
      },
      "source": [
        "## 1.7 단일 텐서에서 값으로 뽑아내기"
      ]
    },
    {
      "cell_type": "code",
      "metadata": {
        "id": "VVA3sbvfqPkz"
      },
      "source": [
        "loss = torch.ones(1)"
      ],
      "execution_count": 22,
      "outputs": []
    },
    {
      "cell_type": "code",
      "metadata": {
        "id": "_lCyCN8IqPkz",
        "colab": {
          "base_uri": "https://localhost:8080/"
        },
        "outputId": "2e599a9c-0673-4774-e5da-ee7f40c40be0"
      },
      "source": [
        "print(loss)\n",
        "print(loss.item()) # .item()은 손실 함숫값과 같이 숫자가 하나인 텐서를 텐서가 아닌 값으로 만들어 준다."
      ],
      "execution_count": 23,
      "outputs": [
        {
          "output_type": "stream",
          "name": "stdout",
          "text": [
            "tensor([1.])\n",
            "1.0\n"
          ]
        }
      ]
    },
    {
      "cell_type": "code",
      "metadata": {
        "id": "UcvA6pant1ZL"
      },
      "source": [],
      "execution_count": null,
      "outputs": []
    }
  ]
}