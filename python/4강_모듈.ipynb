{
  "nbformat": 4,
  "nbformat_minor": 0,
  "metadata": {
    "kernelspec": {
      "display_name": "Python 3",
      "language": "python",
      "name": "python3"
    },
    "language_info": {
      "codemirror_mode": {
        "name": "ipython",
        "version": 3
      },
      "file_extension": ".py",
      "mimetype": "text/x-python",
      "name": "python",
      "nbconvert_exporter": "python",
      "pygments_lexer": "ipython3",
      "version": "3.7.4"
    },
    "colab": {
      "provenance": [],
      "include_colab_link": true
    }
  },
  "cells": [
    {
      "cell_type": "markdown",
      "metadata": {
        "id": "view-in-github",
        "colab_type": "text"
      },
      "source": [
        "<a href=\"https://colab.research.google.com/github/Hannibal730/inflearn_Pytorch/blob/main/4%EA%B0%95_%EB%AA%A8%EB%93%88.ipynb\" target=\"_parent\"><img src=\"https://colab.research.google.com/assets/colab-badge.svg\" alt=\"Open In Colab\"/></a>"
      ]
    },
    {
      "cell_type": "markdown",
      "metadata": {
        "id": "CX0TaIsHt0ZU"
      },
      "source": [
        "# 4강. 모듈\n",
        "\n",
        "한 파일 내에 많은 기능들을 구현한다면 코드가 복잡해지며 지저분하게 보일 수 있다. 또한 같은 기능이나 별도로 관리해야 할 내용에 대해서 가독성이 떨어진다. 따라서 코드를 구현할 때에는 기능에 따라 파일을 별도로 만들어 전체적인 코드를 완성한다. 또한 별도의 파일을 생성하기 때문에 다른 업무에서 동일 작업이 필요 할 때 파일만 불러와서 사용할 수 있어 중복 된 코드를 작성할 필요가 없다. 이 때 전역 변수, 함수 등을 포함한 별도의 파일을 모듈이라고 한다."
      ]
    },
    {
      "cell_type": "code",
      "metadata": {
        "id": "h0Y8zgaV_X43",
        "colab": {
          "base_uri": "https://localhost:8080/"
        },
        "outputId": "c6a88bc8-d74c-4442-9187-e39d2beb7055"
      },
      "source": [
        "from google.colab import drive\n",
        "drive.mount('/content/gdrive')"
      ],
      "execution_count": 1,
      "outputs": [
        {
          "output_type": "stream",
          "name": "stdout",
          "text": [
            "Mounted at /content/gdrive\n"
          ]
        }
      ]
    },
    {
      "cell_type": "code",
      "metadata": {
        "id": "olA_lmn-_4H2",
        "colab": {
          "base_uri": "https://localhost:8080/"
        },
        "outputId": "28df287a-0367-468d-e7a4-85971886ce98"
      },
      "source": [
        "cd/content/gdrive/My Drive/deeplearningbrov2/python"
      ],
      "execution_count": 5,
      "outputs": [
        {
          "output_type": "stream",
          "name": "stdout",
          "text": [
            "/content/gdrive/My Drive/deeplearningbrov2/python\n"
          ]
        }
      ]
    },
    {
      "cell_type": "code",
      "metadata": {
        "id": "tWQOvbqht0ZW"
      },
      "source": [
        "import numpy as np\n",
        "from models import linear_regression, gaussian_mixture\n",
        "# import datasets\n",
        "# import preprocess\n",
        "# 등 ....\n",
        "\n",
        "# models.py\n",
        "# datasets.py\n",
        "#...."
      ],
      "execution_count": 7,
      "outputs": []
    },
    {
      "cell_type": "code",
      "metadata": {
        "id": "oMyO7ar2t0Ze"
      },
      "source": [
        "data = np.random.randint(0,105, size=(10,5))"
      ],
      "execution_count": 8,
      "outputs": []
    },
    {
      "cell_type": "code",
      "metadata": {
        "id": "HKUTxHaNt0Zk",
        "colab": {
          "base_uri": "https://localhost:8080/"
        },
        "outputId": "152e9fc8-f844-47af-fa19-4f75493498b1"
      },
      "source": [
        "linear_regression(data)"
      ],
      "execution_count": 9,
      "outputs": [
        {
          "output_type": "stream",
          "name": "stdout",
          "text": [
            "Linear Regression\n"
          ]
        }
      ]
    },
    {
      "cell_type": "code",
      "metadata": {
        "id": "lW6QwJfOt0Zr",
        "colab": {
          "base_uri": "https://localhost:8080/"
        },
        "outputId": "510b6913-3554-4615-cf43-0a02ed1f3925"
      },
      "source": [
        "gaussian_mixture(data)"
      ],
      "execution_count": 10,
      "outputs": [
        {
          "output_type": "stream",
          "name": "stdout",
          "text": [
            "Gaussian Mixture\n"
          ]
        }
      ]
    },
    {
      "cell_type": "code",
      "source": [
        "import models"
      ],
      "metadata": {
        "id": "4UnTFH2DR-N6"
      },
      "execution_count": 11,
      "outputs": []
    },
    {
      "cell_type": "code",
      "metadata": {
        "id": "9vuLV9tht0Zu",
        "colab": {
          "base_uri": "https://localhost:8080/"
        },
        "outputId": "4e85adf5-8680-43f5-b66a-e16be5825580"
      },
      "source": [
        "models.random_forest(data)"
      ],
      "execution_count": 12,
      "outputs": [
        {
          "output_type": "stream",
          "name": "stdout",
          "text": [
            "Random Forest\n"
          ]
        }
      ]
    },
    {
      "cell_type": "code",
      "metadata": {
        "id": "CwmpTbhZt0Zy",
        "colab": {
          "base_uri": "https://localhost:8080/"
        },
        "outputId": "896e02ac-a59d-4e8b-f127-ba98f88db9d9"
      },
      "source": [
        "models.linear_regression(data)"
      ],
      "execution_count": 13,
      "outputs": [
        {
          "output_type": "stream",
          "name": "stdout",
          "text": [
            "Linear Regression\n"
          ]
        }
      ]
    },
    {
      "cell_type": "code",
      "source": [
        "models.gaussian_mixture(data)"
      ],
      "metadata": {
        "id": "NUafQP8DSDAB",
        "outputId": "dba43b36-9b09-44a4-d0de-fba55d409023",
        "colab": {
          "base_uri": "https://localhost:8080/"
        }
      },
      "execution_count": 14,
      "outputs": [
        {
          "output_type": "stream",
          "name": "stdout",
          "text": [
            "Gaussian Mixture\n"
          ]
        }
      ]
    },
    {
      "cell_type": "code",
      "source": [],
      "metadata": {
        "id": "qnu2UU5fSE16"
      },
      "execution_count": null,
      "outputs": []
    }
  ]
}
