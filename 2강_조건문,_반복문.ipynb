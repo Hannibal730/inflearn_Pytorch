{
  "nbformat": 4,
  "nbformat_minor": 0,
  "metadata": {
    "kernelspec": {
      "display_name": "Python 3",
      "language": "python",
      "name": "python3"
    },
    "language_info": {
      "codemirror_mode": {
        "name": "ipython",
        "version": 3
      },
      "file_extension": ".py",
      "mimetype": "text/x-python",
      "name": "python",
      "nbconvert_exporter": "python",
      "pygments_lexer": "ipython3",
      "version": "3.7.4"
    },
    "colab": {
      "provenance": [],
      "include_colab_link": true
    }
  },
  "cells": [
    {
      "cell_type": "markdown",
      "metadata": {
        "id": "view-in-github",
        "colab_type": "text"
      },
      "source": [
        "<a href=\"https://colab.research.google.com/github/Hannibal730/inflearn_Pytorch/blob/main/2%EA%B0%95_%EC%A1%B0%EA%B1%B4%EB%AC%B8%2C_%EB%B0%98%EB%B3%B5%EB%AC%B8.ipynb\" target=\"_parent\"><img src=\"https://colab.research.google.com/assets/colab-badge.svg\" alt=\"Open In Colab\"/></a>"
      ]
    },
    {
      "cell_type": "markdown",
      "metadata": {
        "id": "GignAMxgtPPR"
      },
      "source": [
        "# 2강. 조건문, 반복문\n",
        "\n",
        "조건문과 반복문은 모든 프로그래밍 언어에서 필수로 알아야 할 내용이다. 조건 반복문을 통해 우리가 원하는 규칙을 구현할 수 있다."
      ]
    },
    {
      "cell_type": "code",
      "metadata": {
        "id": "4ke2tGyNtPPU"
      },
      "source": [
        "import numpy as np"
      ],
      "execution_count": null,
      "outputs": []
    },
    {
      "cell_type": "markdown",
      "metadata": {
        "id": "DuVx9haBtPPk"
      },
      "source": [
        "## 2.1 조건문"
      ]
    },
    {
      "cell_type": "code",
      "metadata": {
        "id": "2cALcXDgtPPm",
        "colab": {
          "base_uri": "https://localhost:8080/"
        },
        "outputId": "00c429da-e920-4863-e551-755220b551d8"
      },
      "source": [
        "x = 10\n",
        "\n",
        "if x == 1:\n",
        "    print(\"x = 1\")\n",
        "else:\n",
        "    print(\"x != 1\")"
      ],
      "execution_count": null,
      "outputs": [
        {
          "output_type": "stream",
          "name": "stdout",
          "text": [
            "x != 1\n"
          ]
        }
      ]
    },
    {
      "cell_type": "code",
      "metadata": {
        "id": "gBkde1lotPPv",
        "colab": {
          "base_uri": "https://localhost:8080/"
        },
        "outputId": "65f1f5ed-56cd-4db9-a8ae-4295c1e239ee"
      },
      "source": [
        "x = 10\n",
        "\n",
        "if x == 1:\n",
        "    print(\"x는 1 입니다.\")\n",
        "elif x == 2:\n",
        "    print(\"x는 2 입니다.\")\n",
        "elif x == 3:\n",
        "    print(\"x는 3 입니다.\")\n",
        "else:\n",
        "    print(\"x는 4 입니다.\")"
      ],
      "execution_count": null,
      "outputs": [
        {
          "output_type": "stream",
          "name": "stdout",
          "text": [
            "x는 4 입니다.\n"
          ]
        }
      ]
    },
    {
      "cell_type": "markdown",
      "metadata": {
        "id": "HETdhVsOtPP0"
      },
      "source": [
        "## 2.2 반복문"
      ]
    },
    {
      "cell_type": "code",
      "metadata": {
        "id": "hnVlJR5ttPP1",
        "colab": {
          "base_uri": "https://localhost:8080/"
        },
        "outputId": "e2ed6e33-f82c-41ba-ce18-356a064190d0"
      },
      "source": [
        "for i in range(5): # range(5) = [0,1,2,3,4] list\n",
        "    print(i)"
      ],
      "execution_count": null,
      "outputs": [
        {
          "output_type": "stream",
          "name": "stdout",
          "text": [
            "0\n",
            "1\n",
            "2\n",
            "3\n",
            "4\n"
          ]
        }
      ]
    },
    {
      "cell_type": "code",
      "metadata": {
        "id": "jN5MiSl5tPP5",
        "colab": {
          "base_uri": "https://localhost:8080/"
        },
        "outputId": "f311ac32-f54f-4b2c-bc40-c202b96f7a84"
      },
      "source": [
        "i = 0\n",
        "while i < 5:\n",
        "    print(i)\n",
        "    i+=1 # i = i+1\n",
        "\n",
        "# i    출력\n",
        "# 0    0\n",
        "# 1    1\n",
        "# 2    2\n",
        "# 3    3\n",
        "# 4    4\n",
        "# 5    break"
      ],
      "execution_count": null,
      "outputs": [
        {
          "output_type": "stream",
          "name": "stdout",
          "text": [
            "0\n",
            "1\n",
            "2\n",
            "3\n",
            "4\n"
          ]
        }
      ]
    },
    {
      "cell_type": "markdown",
      "metadata": {
        "id": "q5oI-W-ItPP8"
      },
      "source": [
        "## 2.3 예시"
      ]
    },
    {
      "cell_type": "markdown",
      "metadata": {
        "id": "5Ir9100RtPP8"
      },
      "source": [
        "### 2.3.1 이차방정식의 실근의 개수"
      ]
    },
    {
      "cell_type": "code",
      "metadata": {
        "id": "Lopc7HTktPP9",
        "colab": {
          "base_uri": "https://localhost:8080/"
        },
        "outputId": "4c52cec6-a77b-44de-d550-44fdbd281093"
      },
      "source": [
        "# a*x**2 + b*x + c = 0\n",
        "# [a, b, c] 라고 표현\n",
        "f = np.random.randint(10,size=(10,3))\n",
        "print(f)"
      ],
      "execution_count": null,
      "outputs": [
        {
          "output_type": "stream",
          "name": "stdout",
          "text": [
            "[[0 7 7]\n",
            " [1 7 2]\n",
            " [7 8 8]\n",
            " [0 2 1]\n",
            " [7 2 3]\n",
            " [6 9 3]\n",
            " [5 9 3]\n",
            " [5 3 3]\n",
            " [3 5 4]\n",
            " [1 4 4]]\n"
          ]
        }
      ]
    },
    {
      "cell_type": "code",
      "metadata": {
        "id": "KvHEFVC3tPQA",
        "colab": {
          "base_uri": "https://localhost:8080/"
        },
        "outputId": "3641534e-e3bc-416f-f3b4-946ae815029f"
      },
      "source": [
        "for g in f:\n",
        "    if g[0] == 0:\n",
        "        print(\"이차 방정식이 아닙니다.\")\n",
        "    else:\n",
        "        D = g[1]**2 - 4*g[0]*g[2]\n",
        "        if D == 0:\n",
        "            print(\"서로 같은 두 실근\")\n",
        "        elif D > 0:\n",
        "            print(\"서로 다른 두 실근\")\n",
        "        else:\n",
        "            print(\"서로 다른 두 허근\")"
      ],
      "execution_count": null,
      "outputs": [
        {
          "output_type": "stream",
          "name": "stdout",
          "text": [
            "이차 방정식이 아닙니다.\n",
            "서로 다른 두 실근\n",
            "서로 다른 두 허근\n",
            "이차 방정식이 아닙니다.\n",
            "서로 다른 두 허근\n",
            "서로 다른 두 실근\n",
            "서로 다른 두 실근\n",
            "서로 다른 두 허근\n",
            "서로 다른 두 허근\n",
            "서로 같은 두 실근\n"
          ]
        }
      ]
    },
    {
      "cell_type": "markdown",
      "metadata": {
        "id": "65rdEafCtPQC"
      },
      "source": [
        "### 2.3.2 break문"
      ]
    },
    {
      "cell_type": "code",
      "metadata": {
        "id": "TjVHzjF5tPQD"
      },
      "source": [
        "pending = [1,3,5,3,8,1,4,5]"
      ],
      "execution_count": null,
      "outputs": []
    },
    {
      "cell_type": "code",
      "metadata": {
        "id": "Oj6-pK3ttPQF",
        "colab": {
          "base_uri": "https://localhost:8080/"
        },
        "outputId": "62ba72bc-586f-4f89-930e-4e32f402ca1f"
      },
      "source": [
        "# 짝수가 나오면 바로 종료한다.\n",
        "for i in pending:\n",
        "    if i % 2 == 0:\n",
        "        print(i,'입니다.')\n",
        "        break"
      ],
      "execution_count": null,
      "outputs": [
        {
          "output_type": "stream",
          "name": "stdout",
          "text": [
            "8 입니다.\n"
          ]
        }
      ]
    },
    {
      "cell_type": "markdown",
      "metadata": {
        "id": "jvrvHB3LtPQI"
      },
      "source": [
        "### 2.3.3 try-except문"
      ]
    },
    {
      "cell_type": "code",
      "metadata": {
        "id": "OeoVVXaZtPQI",
        "colab": {
          "base_uri": "https://localhost:8080/",
          "height": 266
        },
        "outputId": "ed8c2056-4506-433d-e82c-65a9e769c7c0"
      },
      "source": [
        "x = [1,2,3,\"s\",4,5]\n",
        "\n",
        "for i in x:\n",
        "    y = i + 1\n",
        "    print(y)"
      ],
      "execution_count": null,
      "outputs": [
        {
          "output_type": "stream",
          "name": "stdout",
          "text": [
            "2\n",
            "3\n",
            "4\n"
          ]
        },
        {
          "output_type": "error",
          "ename": "TypeError",
          "evalue": "ignored",
          "traceback": [
            "\u001b[0;31m---------------------------------------------------------------------------\u001b[0m",
            "\u001b[0;31mTypeError\u001b[0m                                 Traceback (most recent call last)",
            "\u001b[0;32m<ipython-input-10-9937f5c6f275>\u001b[0m in \u001b[0;36m<module>\u001b[0;34m\u001b[0m\n\u001b[1;32m      2\u001b[0m \u001b[0;34m\u001b[0m\u001b[0m\n\u001b[1;32m      3\u001b[0m \u001b[0;32mfor\u001b[0m \u001b[0mi\u001b[0m \u001b[0;32min\u001b[0m \u001b[0mx\u001b[0m\u001b[0;34m:\u001b[0m\u001b[0;34m\u001b[0m\u001b[0;34m\u001b[0m\u001b[0m\n\u001b[0;32m----> 4\u001b[0;31m     \u001b[0my\u001b[0m \u001b[0;34m=\u001b[0m \u001b[0mi\u001b[0m \u001b[0;34m+\u001b[0m \u001b[0;36m1\u001b[0m\u001b[0;34m\u001b[0m\u001b[0;34m\u001b[0m\u001b[0m\n\u001b[0m\u001b[1;32m      5\u001b[0m     \u001b[0mprint\u001b[0m\u001b[0;34m(\u001b[0m\u001b[0my\u001b[0m\u001b[0;34m)\u001b[0m\u001b[0;34m\u001b[0m\u001b[0;34m\u001b[0m\u001b[0m\n",
            "\u001b[0;31mTypeError\u001b[0m: can only concatenate str (not \"int\") to str"
          ]
        }
      ]
    },
    {
      "cell_type": "code",
      "metadata": {
        "id": "XVIQaAYttPQK",
        "colab": {
          "base_uri": "https://localhost:8080/"
        },
        "outputId": "994995cf-e409-4e72-d87c-510aebd2e5c3"
      },
      "source": [
        "x = [1,2,3,\"s\",4,5]\n",
        "\n",
        "for i in x:\n",
        "    try:\n",
        "        y = i + 1\n",
        "        print(y)\n",
        "    except:\n",
        "        print(i, \"는 오류 입니다.\")"
      ],
      "execution_count": null,
      "outputs": [
        {
          "output_type": "stream",
          "name": "stdout",
          "text": [
            "2\n",
            "3\n",
            "4\n",
            "s 는 오류 입니다.\n",
            "5\n",
            "6\n"
          ]
        }
      ]
    },
    {
      "cell_type": "code",
      "metadata": {
        "id": "lBxviL0MtPQM"
      },
      "source": [],
      "execution_count": null,
      "outputs": []
    }
  ]
}