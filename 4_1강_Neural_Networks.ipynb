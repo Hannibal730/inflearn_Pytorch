{
  "nbformat": 4,
  "nbformat_minor": 0,
  "metadata": {
    "kernelspec": {
      "display_name": "Python 3",
      "language": "python",
      "name": "python3"
    },
    "language_info": {
      "codemirror_mode": {
        "name": "ipython",
        "version": 3
      },
      "file_extension": ".py",
      "mimetype": "text/x-python",
      "name": "python",
      "nbconvert_exporter": "python",
      "pygments_lexer": "ipython3",
      "version": "3.7.4"
    },
    "colab": {
      "provenance": []
    },
    "accelerator": "GPU"
  },
  "cells": [
    {
      "cell_type": "markdown",
      "metadata": {
        "id": "aHYslj8J-ZdS"
      },
      "source": [
        "# 4. 인공 신경망\n",
        "\n",
        "- 인공 신경망은 사람의 신경망을 모사하여 만든 예측 도구이다.\n",
        "- 기본적으로 하나의 레이어에 다수의 노드를 가지고 있으며 여러 개의 레이어가 쌓인 신경망을 깊은 신경망이라고 한다.\n",
        "- 이 때, 깊은 신경망을 이용하여 모델을 학습 시키는 방법을 딥러닝이라고 한다."
      ]
    },
    {
      "cell_type": "code",
      "source": [
        "from google.colab import drive\n",
        "drive.mount('/content/gdrive')"
      ],
      "metadata": {
        "id": "7sFDrUgsEXD0",
        "colab": {
          "base_uri": "https://localhost:8080/"
        },
        "outputId": "78f6ad43-7f26-41ad-8ff5-c76191a1ec87"
      },
      "execution_count": null,
      "outputs": [
        {
          "output_type": "stream",
          "name": "stdout",
          "text": [
            "Mounted at /content/gdrive\n"
          ]
        }
      ]
    },
    {
      "cell_type": "code",
      "source": [
        "cd/content/gdrive/My Drive/deeplearningbrov2/pytorch"
      ],
      "metadata": {
        "id": "JGiHJCm0EXMF",
        "colab": {
          "base_uri": "https://localhost:8080/"
        },
        "outputId": "28f9862d-9ea8-4024-f59d-ff582516b0e0"
      },
      "execution_count": null,
      "outputs": [
        {
          "output_type": "stream",
          "name": "stdout",
          "text": [
            "/content/gdrive/My Drive/deeplearningbrov2/pytorch\n"
          ]
        }
      ]
    },
    {
      "cell_type": "code",
      "metadata": {
        "id": "DRe-AWuu-Zdc"
      },
      "source": [
        "import pandas as pd\n",
        "import numpy as np\n",
        "from sklearn.model_selection import train_test_split\n",
        "import matplotlib.pyplot as plt\n",
        "\n",
        "import torch\n",
        "from torch import nn, optim # torch 내의 세부적인 기능을 불러온다. (신경망 기술, 손실함수, 최적화 방법 등)\n",
        "from torch.utils.data import DataLoader, Dataset # 데이터를 모델에 사용할 수 있도록 정리해 주는 라이브러리\n",
        "import torch.nn.functional as F # torch 내의 세부적인 기능을 불러온다. (신경망 기술 등)"
      ],
      "execution_count": null,
      "outputs": []
    },
    {
      "cell_type": "markdown",
      "metadata": {
        "id": "x5_AHWh3-Zdd"
      },
      "source": [
        "## 4.1 데이터 불러오기"
      ]
    },
    {
      "cell_type": "code",
      "metadata": {
        "id": "xABSoi33-Zde"
      },
      "source": [
        "import pandas as pd\n",
        "\n",
        "df = pd.read_csv('./data/reg.csv', index_col=[0]) # 인덱스를 0번째 열로 설정함으로써 숫자 인덱스가 안 뜨게"
      ],
      "execution_count": null,
      "outputs": []
    },
    {
      "cell_type": "code",
      "metadata": {
        "id": "v-Y1BQPG-Zde",
        "colab": {
          "base_uri": "https://localhost:8080/",
          "height": 206
        },
        "outputId": "79375e6c-a9ab-4e55-ba43-85b0efc9c7a2"
      },
      "source": [
        "df.head()"
      ],
      "execution_count": null,
      "outputs": [
        {
          "output_type": "execute_result",
          "data": {
            "text/plain": [
              "         x1        x2        x3        x4        x5        x6        x7  \\\n",
              "0  0.034633  0.206919  0.137057  0.540526  0.193941  0.699239  0.630532   \n",
              "1  0.028920  0.014315  0.276113  0.255945  0.618886  0.555407  0.782263   \n",
              "2  0.020627  0.033230  0.281116  0.525591  0.165269  0.624102  0.586005   \n",
              "3  0.022749  0.033801  0.125044  0.263253  0.251509  0.658532  0.432160   \n",
              "4  0.022148  0.029374  0.121057  0.521126  0.399670  0.448086  0.520158   \n",
              "\n",
              "         x8        x9       x10       x11       x12       x13     Price  \n",
              "0  0.239410  0.027375  0.209857  0.347609  0.996394  0.102644  0.422222  \n",
              "1  0.482977  0.103031  0.106690  0.520776  0.996650  0.187120  0.368889  \n",
              "2  0.272713  0.036010  0.106986  0.595301  0.983284  0.084079  0.660000  \n",
              "3  0.344932  0.150018  0.068317  0.651297  0.989989  0.015990  0.631111  \n",
              "4  0.495342  0.104383  0.069360  0.560116  0.998723  0.092782  0.693333  "
            ],
            "text/html": [
              "\n",
              "  <div id=\"df-377d6632-320a-44d5-97b4-4f9675777953\" class=\"colab-df-container\">\n",
              "    <div>\n",
              "<style scoped>\n",
              "    .dataframe tbody tr th:only-of-type {\n",
              "        vertical-align: middle;\n",
              "    }\n",
              "\n",
              "    .dataframe tbody tr th {\n",
              "        vertical-align: top;\n",
              "    }\n",
              "\n",
              "    .dataframe thead th {\n",
              "        text-align: right;\n",
              "    }\n",
              "</style>\n",
              "<table border=\"1\" class=\"dataframe\">\n",
              "  <thead>\n",
              "    <tr style=\"text-align: right;\">\n",
              "      <th></th>\n",
              "      <th>x1</th>\n",
              "      <th>x2</th>\n",
              "      <th>x3</th>\n",
              "      <th>x4</th>\n",
              "      <th>x5</th>\n",
              "      <th>x6</th>\n",
              "      <th>x7</th>\n",
              "      <th>x8</th>\n",
              "      <th>x9</th>\n",
              "      <th>x10</th>\n",
              "      <th>x11</th>\n",
              "      <th>x12</th>\n",
              "      <th>x13</th>\n",
              "      <th>Price</th>\n",
              "    </tr>\n",
              "  </thead>\n",
              "  <tbody>\n",
              "    <tr>\n",
              "      <th>0</th>\n",
              "      <td>0.034633</td>\n",
              "      <td>0.206919</td>\n",
              "      <td>0.137057</td>\n",
              "      <td>0.540526</td>\n",
              "      <td>0.193941</td>\n",
              "      <td>0.699239</td>\n",
              "      <td>0.630532</td>\n",
              "      <td>0.239410</td>\n",
              "      <td>0.027375</td>\n",
              "      <td>0.209857</td>\n",
              "      <td>0.347609</td>\n",
              "      <td>0.996394</td>\n",
              "      <td>0.102644</td>\n",
              "      <td>0.422222</td>\n",
              "    </tr>\n",
              "    <tr>\n",
              "      <th>1</th>\n",
              "      <td>0.028920</td>\n",
              "      <td>0.014315</td>\n",
              "      <td>0.276113</td>\n",
              "      <td>0.255945</td>\n",
              "      <td>0.618886</td>\n",
              "      <td>0.555407</td>\n",
              "      <td>0.782263</td>\n",
              "      <td>0.482977</td>\n",
              "      <td>0.103031</td>\n",
              "      <td>0.106690</td>\n",
              "      <td>0.520776</td>\n",
              "      <td>0.996650</td>\n",
              "      <td>0.187120</td>\n",
              "      <td>0.368889</td>\n",
              "    </tr>\n",
              "    <tr>\n",
              "      <th>2</th>\n",
              "      <td>0.020627</td>\n",
              "      <td>0.033230</td>\n",
              "      <td>0.281116</td>\n",
              "      <td>0.525591</td>\n",
              "      <td>0.165269</td>\n",
              "      <td>0.624102</td>\n",
              "      <td>0.586005</td>\n",
              "      <td>0.272713</td>\n",
              "      <td>0.036010</td>\n",
              "      <td>0.106986</td>\n",
              "      <td>0.595301</td>\n",
              "      <td>0.983284</td>\n",
              "      <td>0.084079</td>\n",
              "      <td>0.660000</td>\n",
              "    </tr>\n",
              "    <tr>\n",
              "      <th>3</th>\n",
              "      <td>0.022749</td>\n",
              "      <td>0.033801</td>\n",
              "      <td>0.125044</td>\n",
              "      <td>0.263253</td>\n",
              "      <td>0.251509</td>\n",
              "      <td>0.658532</td>\n",
              "      <td>0.432160</td>\n",
              "      <td>0.344932</td>\n",
              "      <td>0.150018</td>\n",
              "      <td>0.068317</td>\n",
              "      <td>0.651297</td>\n",
              "      <td>0.989989</td>\n",
              "      <td>0.015990</td>\n",
              "      <td>0.631111</td>\n",
              "    </tr>\n",
              "    <tr>\n",
              "      <th>4</th>\n",
              "      <td>0.022148</td>\n",
              "      <td>0.029374</td>\n",
              "      <td>0.121057</td>\n",
              "      <td>0.521126</td>\n",
              "      <td>0.399670</td>\n",
              "      <td>0.448086</td>\n",
              "      <td>0.520158</td>\n",
              "      <td>0.495342</td>\n",
              "      <td>0.104383</td>\n",
              "      <td>0.069360</td>\n",
              "      <td>0.560116</td>\n",
              "      <td>0.998723</td>\n",
              "      <td>0.092782</td>\n",
              "      <td>0.693333</td>\n",
              "    </tr>\n",
              "  </tbody>\n",
              "</table>\n",
              "</div>\n",
              "    <div class=\"colab-df-buttons\">\n",
              "\n",
              "  <div class=\"colab-df-container\">\n",
              "    <button class=\"colab-df-convert\" onclick=\"convertToInteractive('df-377d6632-320a-44d5-97b4-4f9675777953')\"\n",
              "            title=\"Convert this dataframe to an interactive table.\"\n",
              "            style=\"display:none;\">\n",
              "\n",
              "  <svg xmlns=\"http://www.w3.org/2000/svg\" height=\"24px\" viewBox=\"0 -960 960 960\">\n",
              "    <path d=\"M120-120v-720h720v720H120Zm60-500h600v-160H180v160Zm220 220h160v-160H400v160Zm0 220h160v-160H400v160ZM180-400h160v-160H180v160Zm440 0h160v-160H620v160ZM180-180h160v-160H180v160Zm440 0h160v-160H620v160Z\"/>\n",
              "  </svg>\n",
              "    </button>\n",
              "\n",
              "  <style>\n",
              "    .colab-df-container {\n",
              "      display:flex;\n",
              "      gap: 12px;\n",
              "    }\n",
              "\n",
              "    .colab-df-convert {\n",
              "      background-color: #E8F0FE;\n",
              "      border: none;\n",
              "      border-radius: 50%;\n",
              "      cursor: pointer;\n",
              "      display: none;\n",
              "      fill: #1967D2;\n",
              "      height: 32px;\n",
              "      padding: 0 0 0 0;\n",
              "      width: 32px;\n",
              "    }\n",
              "\n",
              "    .colab-df-convert:hover {\n",
              "      background-color: #E2EBFA;\n",
              "      box-shadow: 0px 1px 2px rgba(60, 64, 67, 0.3), 0px 1px 3px 1px rgba(60, 64, 67, 0.15);\n",
              "      fill: #174EA6;\n",
              "    }\n",
              "\n",
              "    .colab-df-buttons div {\n",
              "      margin-bottom: 4px;\n",
              "    }\n",
              "\n",
              "    [theme=dark] .colab-df-convert {\n",
              "      background-color: #3B4455;\n",
              "      fill: #D2E3FC;\n",
              "    }\n",
              "\n",
              "    [theme=dark] .colab-df-convert:hover {\n",
              "      background-color: #434B5C;\n",
              "      box-shadow: 0px 1px 3px 1px rgba(0, 0, 0, 0.15);\n",
              "      filter: drop-shadow(0px 1px 2px rgba(0, 0, 0, 0.3));\n",
              "      fill: #FFFFFF;\n",
              "    }\n",
              "  </style>\n",
              "\n",
              "    <script>\n",
              "      const buttonEl =\n",
              "        document.querySelector('#df-377d6632-320a-44d5-97b4-4f9675777953 button.colab-df-convert');\n",
              "      buttonEl.style.display =\n",
              "        google.colab.kernel.accessAllowed ? 'block' : 'none';\n",
              "\n",
              "      async function convertToInteractive(key) {\n",
              "        const element = document.querySelector('#df-377d6632-320a-44d5-97b4-4f9675777953');\n",
              "        const dataTable =\n",
              "          await google.colab.kernel.invokeFunction('convertToInteractive',\n",
              "                                                    [key], {});\n",
              "        if (!dataTable) return;\n",
              "\n",
              "        const docLinkHtml = 'Like what you see? Visit the ' +\n",
              "          '<a target=\"_blank\" href=https://colab.research.google.com/notebooks/data_table.ipynb>data table notebook</a>'\n",
              "          + ' to learn more about interactive tables.';\n",
              "        element.innerHTML = '';\n",
              "        dataTable['output_type'] = 'display_data';\n",
              "        await google.colab.output.renderOutput(dataTable, element);\n",
              "        const docLink = document.createElement('div');\n",
              "        docLink.innerHTML = docLinkHtml;\n",
              "        element.appendChild(docLink);\n",
              "      }\n",
              "    </script>\n",
              "  </div>\n",
              "\n",
              "\n",
              "<div id=\"df-074d2690-4efa-4988-a376-4a54b5eb4784\">\n",
              "  <button class=\"colab-df-quickchart\" onclick=\"quickchart('df-074d2690-4efa-4988-a376-4a54b5eb4784')\"\n",
              "            title=\"Suggest charts\"\n",
              "            style=\"display:none;\">\n",
              "\n",
              "<svg xmlns=\"http://www.w3.org/2000/svg\" height=\"24px\"viewBox=\"0 0 24 24\"\n",
              "     width=\"24px\">\n",
              "    <g>\n",
              "        <path d=\"M19 3H5c-1.1 0-2 .9-2 2v14c0 1.1.9 2 2 2h14c1.1 0 2-.9 2-2V5c0-1.1-.9-2-2-2zM9 17H7v-7h2v7zm4 0h-2V7h2v10zm4 0h-2v-4h2v4z\"/>\n",
              "    </g>\n",
              "</svg>\n",
              "  </button>\n",
              "\n",
              "<style>\n",
              "  .colab-df-quickchart {\n",
              "      --bg-color: #E8F0FE;\n",
              "      --fill-color: #1967D2;\n",
              "      --hover-bg-color: #E2EBFA;\n",
              "      --hover-fill-color: #174EA6;\n",
              "      --disabled-fill-color: #AAA;\n",
              "      --disabled-bg-color: #DDD;\n",
              "  }\n",
              "\n",
              "  [theme=dark] .colab-df-quickchart {\n",
              "      --bg-color: #3B4455;\n",
              "      --fill-color: #D2E3FC;\n",
              "      --hover-bg-color: #434B5C;\n",
              "      --hover-fill-color: #FFFFFF;\n",
              "      --disabled-bg-color: #3B4455;\n",
              "      --disabled-fill-color: #666;\n",
              "  }\n",
              "\n",
              "  .colab-df-quickchart {\n",
              "    background-color: var(--bg-color);\n",
              "    border: none;\n",
              "    border-radius: 50%;\n",
              "    cursor: pointer;\n",
              "    display: none;\n",
              "    fill: var(--fill-color);\n",
              "    height: 32px;\n",
              "    padding: 0;\n",
              "    width: 32px;\n",
              "  }\n",
              "\n",
              "  .colab-df-quickchart:hover {\n",
              "    background-color: var(--hover-bg-color);\n",
              "    box-shadow: 0 1px 2px rgba(60, 64, 67, 0.3), 0 1px 3px 1px rgba(60, 64, 67, 0.15);\n",
              "    fill: var(--button-hover-fill-color);\n",
              "  }\n",
              "\n",
              "  .colab-df-quickchart-complete:disabled,\n",
              "  .colab-df-quickchart-complete:disabled:hover {\n",
              "    background-color: var(--disabled-bg-color);\n",
              "    fill: var(--disabled-fill-color);\n",
              "    box-shadow: none;\n",
              "  }\n",
              "\n",
              "  .colab-df-spinner {\n",
              "    border: 2px solid var(--fill-color);\n",
              "    border-color: transparent;\n",
              "    border-bottom-color: var(--fill-color);\n",
              "    animation:\n",
              "      spin 1s steps(1) infinite;\n",
              "  }\n",
              "\n",
              "  @keyframes spin {\n",
              "    0% {\n",
              "      border-color: transparent;\n",
              "      border-bottom-color: var(--fill-color);\n",
              "      border-left-color: var(--fill-color);\n",
              "    }\n",
              "    20% {\n",
              "      border-color: transparent;\n",
              "      border-left-color: var(--fill-color);\n",
              "      border-top-color: var(--fill-color);\n",
              "    }\n",
              "    30% {\n",
              "      border-color: transparent;\n",
              "      border-left-color: var(--fill-color);\n",
              "      border-top-color: var(--fill-color);\n",
              "      border-right-color: var(--fill-color);\n",
              "    }\n",
              "    40% {\n",
              "      border-color: transparent;\n",
              "      border-right-color: var(--fill-color);\n",
              "      border-top-color: var(--fill-color);\n",
              "    }\n",
              "    60% {\n",
              "      border-color: transparent;\n",
              "      border-right-color: var(--fill-color);\n",
              "    }\n",
              "    80% {\n",
              "      border-color: transparent;\n",
              "      border-right-color: var(--fill-color);\n",
              "      border-bottom-color: var(--fill-color);\n",
              "    }\n",
              "    90% {\n",
              "      border-color: transparent;\n",
              "      border-bottom-color: var(--fill-color);\n",
              "    }\n",
              "  }\n",
              "</style>\n",
              "\n",
              "  <script>\n",
              "    async function quickchart(key) {\n",
              "      const quickchartButtonEl =\n",
              "        document.querySelector('#' + key + ' button');\n",
              "      quickchartButtonEl.disabled = true;  // To prevent multiple clicks.\n",
              "      quickchartButtonEl.classList.add('colab-df-spinner');\n",
              "      try {\n",
              "        const charts = await google.colab.kernel.invokeFunction(\n",
              "            'suggestCharts', [key], {});\n",
              "      } catch (error) {\n",
              "        console.error('Error during call to suggestCharts:', error);\n",
              "      }\n",
              "      quickchartButtonEl.classList.remove('colab-df-spinner');\n",
              "      quickchartButtonEl.classList.add('colab-df-quickchart-complete');\n",
              "    }\n",
              "    (() => {\n",
              "      let quickchartButtonEl =\n",
              "        document.querySelector('#df-074d2690-4efa-4988-a376-4a54b5eb4784 button');\n",
              "      quickchartButtonEl.style.display =\n",
              "        google.colab.kernel.accessAllowed ? 'block' : 'none';\n",
              "    })();\n",
              "  </script>\n",
              "</div>\n",
              "\n",
              "    </div>\n",
              "  </div>\n"
            ],
            "application/vnd.google.colaboratory.intrinsic+json": {
              "type": "dataframe",
              "variable_name": "df",
              "summary": "{\n  \"name\": \"df\",\n  \"rows\": 506,\n  \"fields\": [\n    {\n      \"column\": \"x1\",\n      \"properties\": {\n        \"dtype\": \"number\",\n        \"std\": 0.09412102189357344,\n        \"min\": 0.0,\n        \"max\": 1.0,\n        \"num_unique_values\": 506,\n        \"samples\": [\n          0.0499190269366402,\n          0.0372793486415663,\n          0.0403476125162454\n        ],\n        \"semantic_type\": \"\",\n        \"description\": \"\"\n      }\n    },\n    {\n      \"column\": \"x2\",\n      \"properties\": {\n        \"dtype\": \"number\",\n        \"std\": 0.22643957887914032,\n        \"min\": 0.0,\n        \"max\": 1.0,\n        \"num_unique_values\": 506,\n        \"samples\": [\n          0.0270797194040528,\n          0.4175304654416022,\n          0.0224929701490326\n        ],\n        \"semantic_type\": \"\",\n        \"description\": \"\"\n      }\n    },\n    {\n      \"column\": \"x3\",\n      \"properties\": {\n        \"dtype\": \"number\",\n        \"std\": 0.23203681609671972,\n        \"min\": 0.0,\n        \"max\": 1.0,\n        \"num_unique_values\": 506,\n        \"samples\": [\n          0.1792486637747934,\n          0.2743955576655295,\n          0.9683967172985736\n        ],\n        \"semantic_type\": \"\",\n        \"description\": \"\"\n      }\n    },\n    {\n      \"column\": \"x4\",\n      \"properties\": {\n        \"dtype\": \"number\",\n        \"std\": 0.1822823739959293,\n        \"min\": 0.0,\n        \"max\": 1.0,\n        \"num_unique_values\": 506,\n        \"samples\": [\n          0.4621324318833278,\n          0.4547574666783817,\n          0.4005254037842979\n        ],\n        \"semantic_type\": \"\",\n        \"description\": \"\"\n      }\n    },\n    {\n      \"column\": \"x5\",\n      \"properties\": {\n        \"dtype\": \"number\",\n        \"std\": 0.16728059681043897,\n        \"min\": 0.0,\n        \"max\": 1.0,\n        \"num_unique_values\": 506,\n        \"samples\": [\n          0.5849521360722187,\n          0.5561616663456006,\n          0.7352773683337714\n        ],\n        \"semantic_type\": \"\",\n        \"description\": \"\"\n      }\n    },\n    {\n      \"column\": \"x6\",\n      \"properties\": {\n        \"dtype\": \"number\",\n        \"std\": 0.15092712790755394,\n        \"min\": 0.0,\n        \"max\": 1.0,\n        \"num_unique_values\": 506,\n        \"samples\": [\n          0.4339961234835209,\n          0.4895463226365414,\n          0.572557245767741\n        ],\n        \"semantic_type\": \"\",\n        \"description\": \"\"\n      }\n    },\n    {\n      \"column\": \"x7\",\n      \"properties\": {\n        \"dtype\": \"number\",\n        \"std\": 0.2823707934991049,\n        \"min\": 0.0,\n        \"max\": 1.0,\n        \"num_unique_values\": 506,\n        \"samples\": [\n          0.8315909849163077,\n          0.3026895216921868,\n          0.9754998325044808\n        ],\n        \"semantic_type\": \"\",\n        \"description\": \"\"\n      }\n    },\n    {\n      \"column\": \"x8\",\n      \"properties\": {\n        \"dtype\": \"number\",\n        \"std\": 0.18128568925683278,\n        \"min\": 0.0,\n        \"max\": 1.0,\n        \"num_unique_values\": 506,\n        \"samples\": [\n          0.2242822251534877,\n          0.23861541555023,\n          0.1059364335340743\n        ],\n        \"semantic_type\": \"\",\n        \"description\": \"\"\n      }\n    },\n    {\n      \"column\": \"x9\",\n      \"properties\": {\n        \"dtype\": \"number\",\n        \"std\": 0.31067542929982594,\n        \"min\": 0.0,\n        \"max\": 1.0,\n        \"num_unique_values\": 506,\n        \"samples\": [\n          0.208196134136252,\n          0.1474939565309038,\n          0.1949015147367152\n        ],\n        \"semantic_type\": \"\",\n        \"description\": \"\"\n      }\n    },\n    {\n      \"column\": \"x10\",\n      \"properties\": {\n        \"dtype\": \"number\",\n        \"std\": 0.31977789284106656,\n        \"min\": 0.0,\n        \"max\": 1.0,\n        \"num_unique_values\": 506,\n        \"samples\": [\n          0.2108191445914082,\n          0.1336018960152109,\n          0.9979329447750253\n        ],\n        \"semantic_type\": \"\",\n        \"description\": \"\"\n      }\n    },\n    {\n      \"column\": \"x11\",\n      \"properties\": {\n        \"dtype\": \"number\",\n        \"std\": 0.19215735143397242,\n        \"min\": 0.0,\n        \"max\": 1.0,\n        \"num_unique_values\": 506,\n        \"samples\": [\n          0.3874211892036543,\n          0.3986546057168885,\n          0.7875594558392439\n        ],\n        \"semantic_type\": \"\",\n        \"description\": \"\"\n      }\n    },\n    {\n      \"column\": \"x12\",\n      \"properties\": {\n        \"dtype\": \"number\",\n        \"std\": 0.22871322563817403,\n        \"min\": 0.0,\n        \"max\": 1.0,\n        \"num_unique_values\": 506,\n        \"samples\": [\n          0.9929641731116344,\n          0.9961454906381132,\n          0.9761807038251704\n        ],\n        \"semantic_type\": \"\",\n        \"description\": \"\"\n      }\n    },\n    {\n      \"column\": \"x13\",\n      \"properties\": {\n        \"dtype\": \"number\",\n        \"std\": 0.20367976634198887,\n        \"min\": 0.0,\n        \"max\": 1.0,\n        \"num_unique_values\": 506,\n        \"samples\": [\n          0.2104941430684204,\n          0.0777346082167225,\n          0.4893547657574851\n        ],\n        \"semantic_type\": \"\",\n        \"description\": \"\"\n      }\n    },\n    {\n      \"column\": \"Price\",\n      \"properties\": {\n        \"dtype\": \"number\",\n        \"std\": 0.20438009083066266,\n        \"min\": 0.0,\n        \"max\": 1.0,\n        \"num_unique_values\": 229,\n        \"samples\": [\n          0.2022222222222222,\n          0.3888888888888889,\n          0.3088888888888889\n        ],\n        \"semantic_type\": \"\",\n        \"description\": \"\"\n      }\n    }\n  ]\n}"
            }
          },
          "metadata": {},
          "execution_count": 6
        }
      ]
    },
    {
      "cell_type": "markdown",
      "metadata": {
        "id": "H7xSCb7b-Zdh"
      },
      "source": [
        "## 4.2 데이터 변수와 타겟값 나누기"
      ]
    },
    {
      "cell_type": "code",
      "metadata": {
        "id": "BQ-dk6tB-Zdi"
      },
      "source": [
        "# 데이터를 넘파이 배열로 만들기\n",
        "X = df.drop('Price', axis=1).to_numpy() # 데이터프레임에서 타겟값(Price)을 제외하고 넘파이 배열로 만들기\n",
        "Y = df['Price'].to_numpy().reshape((-1,1)) # 데이터프레임 형태의 타겟값을 넘파이 배열로 만들기"
      ],
      "execution_count": null,
      "outputs": []
    },
    {
      "cell_type": "markdown",
      "metadata": {
        "id": "Luh06zYz-Zdi"
      },
      "source": [
        "## 4.3 텐서 데이터와 배치 만들기"
      ]
    },
    {
      "cell_type": "code",
      "metadata": {
        "id": "18HfoE6j-Zdi"
      },
      "source": [
        "# 데이터의 트레인 데이터 저장, 테스트 데이터 저장, 인덱싱, 데이터 길이를 반환하는 데이터셋 클래스를 오버라이딩하여서 데이터들을 텐서 데이터로 변환\n",
        "class TensorData(Dataset):\n",
        "\n",
        "    def __init__(self, x_data, y_data):\n",
        "        self.x_data = torch.FloatTensor(x_data) # 이미지 데이터를 FloatTensor로 변형\n",
        "        self.y_data = torch.FloatTensor(y_data) # 라벨 데이터를 FloatTensor로 변형\n",
        "        self.len = self.y_data.shape[0] # 데이터가 1차원 벡터일 때는  요소의 개수를, 데이터가 행렬일 때는 행 개수를 반환\n",
        "\n",
        "    def __getitem__(self, index):\n",
        "        return self.x_data[index], self.y_data[index]  # 뽑아낼 데이터를 적어준다.\n",
        "\n",
        "    def __len__(self):\n",
        "        return self.len"
      ],
      "execution_count": null,
      "outputs": []
    },
    {
      "cell_type": "code",
      "metadata": {
        "id": "ItbfBoA--Zdj"
      },
      "source": [
        "# 전체 데이터를 학습 데이터와 평가 데이터로 나눈다.\n",
        "# test size를 0.5로 설정한다.\n",
        "X_train, X_test, Y_train, Y_test = train_test_split(X, Y, test_size=0.5)\n",
        "\n",
        "trainsets = TensorData(X_train, Y_train)\n",
        "trainloader = DataLoader(trainsets, batch_size=32, shuffle=True)\n",
        "# 데이터로더 함수: 데이터를 배치화하는 데에 중요한 옵션인 배치 사이즈, 셔플을 조정할 수 있음.\n",
        "\n",
        "testsets = TensorData(X_test, Y_test)\n",
        "testloader = DataLoader(testsets, batch_size=32, shuffle=False)"
      ],
      "execution_count": null,
      "outputs": []
    },
    {
      "cell_type": "markdown",
      "metadata": {
        "id": "UQh9Ds34-Zdj"
      },
      "source": [
        "## 4.4 모델 구축\n",
        "\n",
        "- Regressor 모델을 만들되 입력층(노드 13개), 2개의 은닉층(50, 30개), 출력층(1개)으로 구성한다.\n",
        "- 데이터의 변수는 13개이므로 입력층의 노드는\n",
        "13개가 되고 출력층은 집 값인 단일 값을 추출하는 것이므로 1개가 된다.\n",
        "- 은닉층에 대해서는 실험을 하면서 튜닝할 수 있다."
      ]
    },
    {
      "cell_type": "code",
      "metadata": {
        "id": "ofSZdnBz-Zdj"
      },
      "source": [
        "class Regressor(nn.Module):\n",
        "    def __init__(self):\n",
        "        super().__init__() # 모델 연산 정의\n",
        "        self.fc1 = nn.Linear(13, 50, bias=True) # 입력층(13) -> 은닉층1(50)으로 가는 연산\n",
        "        self.fc2 = nn.Linear(50, 30, bias=True) # 은닉층1(50) -> 은닉층2(30)으로 가는 연산\n",
        "        self.fc3 = nn.Linear(30, 1, bias=True) # 은닉층2(30) -> 출력층(1)으로 가는 연산\n",
        "        self.dropout = nn.Dropout(0.2) # 드랍아웃 적용: 연산이 될 때마다 20%의 비율로 랜덤하게 노드를 가린다.\n",
        "\n",
        "    def forward(self, x): # 입력데이터 x를 매개변수로 받으며, 함수 안에서 모델 연산의 순서를 정의함.\n",
        "        x = F.relu(self.fc1(x)) # Linear 계산 후 활성화 함수 렐루를 적용한다.\n",
        "        x = self.dropout(F.relu(self.fc2(x))) # 은닉층2에서 드랍아웃을 적용한다.(즉, f1의 결과인 50개는 f를 거치며 30개가 되지만, 드랍아웃 덕분에 30개의 20%인 6개의 노드가 계산에서 제외된다.)\n",
        "        x = F.relu(self.fc3(x)) # Linear 계산 후 활성화 함수 렐루를 적용한다. (가격 예측 문제이기 때문에 음의 값들은 말이 안된다. 그래서 렐루로 모두 0으로 만들어줌)\n",
        "\n",
        "        return x\n",
        "\n",
        "# 주의 사항\n",
        "# 드랍아웃은 과적합(overfitting)을 방지하기 위해 노드의 일부를 배제하고 계산하는 방식이기 때문에, 절대로 출력층에 사용해서는 안 된다."
      ],
      "execution_count": null,
      "outputs": []
    },
    {
      "cell_type": "markdown",
      "metadata": {
        "id": "l6v6VEOb-Zdk"
      },
      "source": [
        "## 4.5 모델, 손실함수, 최적화 방법 선언"
      ]
    },
    {
      "cell_type": "code",
      "source": [
        "# 모델의 매개변수 출력\n",
        "model = Regressor()\n",
        "for name, param in model.named_parameters(): # .named_parameters()는 PyTorch 모델의 모든 매개변수를 이름과 함께 반환하는 메서드입니다.\n",
        "    print(name, param.size())"
      ],
      "metadata": {
        "colab": {
          "base_uri": "https://localhost:8080/"
        },
        "id": "cvYYMpu5GwEN",
        "outputId": "919091ad-9102-4e66-ea88-9a0376aa3ea5"
      },
      "execution_count": null,
      "outputs": [
        {
          "output_type": "stream",
          "name": "stdout",
          "text": [
            "fc1.weight torch.Size([50, 13])\n",
            "fc1.bias torch.Size([50])\n",
            "fc2.weight torch.Size([30, 50])\n",
            "fc2.bias torch.Size([30])\n",
            "fc3.weight torch.Size([1, 30])\n",
            "fc3.bias torch.Size([1])\n"
          ]
        }
      ]
    },
    {
      "cell_type": "code",
      "metadata": {
        "id": "0J0COt6Q-Zdk"
      },
      "source": [
        "model = Regressor()\n",
        "criterion = nn.MSELoss() # 손실함수로 MSE를 채택\n",
        "\n",
        "optimizer = optim.Adam(model.parameters(), lr=1e-2, weight_decay=1e-7)\n",
        "# weight_decay는 L2 정규화에서의 패널티 정도를 의미한다.\n",
        "# L2 정규화는 손실함수를 갱신하는 과정이다.\n",
        "# '가중치의 제곱합 * 람다'만큼의 패널티를 손실 함수에 추가하여 가중치를 갱신하는 방식.\n",
        "# 이를 통해 특정 상황에 대해서 가중치가 너무 커져서 오버피팅이 발생하는 일을 방지한다.\n",
        "# 참고로 1e-2 = 0.01"
      ],
      "execution_count": null,
      "outputs": []
    },
    {
      "cell_type": "markdown",
      "metadata": {
        "id": "67u82MtW-Zdl"
      },
      "source": [
        "## 4.6 학습 진행\n",
        "- 데이터를 배치로 나눔\n",
        "- 배치끼리 셔플링\n",
        "- 한 배치를 모델에 집어넣고, 예측값을 뽑아내어 정답과 비교하며 로스값을 구하고, 옵티마이저를 거침으로써 가중치 갱신\n",
        "- 한 배치가 모델에 들어올 때마다 학습하는 반복문 한 가지\n",
        "- 데이터의 배치를 다 썼을 때에 다시 전체 데이터를 채우고 위의 과정을 반복하는 반복문 한 가지\n",
        "- 총 반복문 두 가지"
      ]
    },
    {
      "cell_type": "code",
      "metadata": {
        "id": "nnD499k7-Zdl",
        "colab": {
          "base_uri": "https://localhost:8080/"
        },
        "outputId": "1d00ac75-f389-4e79-a96a-47b3f14c4092"
      },
      "source": [
        "ep = 0\n",
        "ls = 1 # 임의의 손실 임계값\n",
        "loss_ = [] # 그래프를 그리기 위한 loss 저장용 리스트\n",
        "n = len(trainloader) # 배치의 개수\n",
        "\n",
        "for epoch in range(200): # 200번 학습을 진행한다.\n",
        "\n",
        "    running_loss = 0.0\n",
        "\n",
        "    for data in trainloader: # '무작위로 섞인 32개 데이터가 있는 배치들'에서 배치가 하나씩 들어온다.\n",
        "\n",
        "        inputs, values = data # data에는 X, Y가 들어있다.\n",
        "\n",
        "        optimizer.zero_grad() # 옵티마이저는 이전 누적값을 반영한 채로 계산하기 때문에 새로운 계산을 할 때는 초기화가 필요하다\n",
        "\n",
        "        outputs = model(inputs) # 모델에 입력값 대입 후 예측값 산출\n",
        "        loss = criterion(outputs, values) # 예측값인 아웃풋과 정답인 벨류끼리 손실 함수 값 계산\n",
        "        loss.backward() # 손실 함수 기준으로 역전파 계산하기로 선언하며 기울기를 계산한다.\n",
        "        optimizer.step() # optimizer.step()은 위에서 계산된 기울기를 사용하여 가중치를 업데이트하는 메서드이다.\n",
        "\n",
        "        running_loss += loss.item() # 평균 loss를 계산하기 위해 epoch 마다 배치 loss를 더한다.\n",
        "        # n으로 나누는 계산을 위해서는 어차피 스칼라값만 필요하니까 .item()을 써서 텐서에서 스칼라값만 가져옴.\n",
        "\n",
        "    l = running_loss/n\n",
        "    loss_.append(l) # 손실 함수를 리스트에 축적\n",
        "\n",
        "\n",
        "    # 유의미한 손실 함수 값이 나올 때마다 저장하기 위해서 조건문 설정\n",
        "    if l < ls: # ls의 초기값은 1이다.\n",
        "        ls = l # ㅣ값을 새로운 ls로 갱신하고,\n",
        "        ep = epoch # 현재 에포크 수도 갱신하고,\n",
        "        torch.save({'epoch': ep,\n",
        "                    'loss': loss_,\n",
        "                    'model': model.state_dict(), # 현재 모델의 파라미터(가중치와 편향)\n",
        "                    'optimizer': optimizer.state_dict() #  옵티마이저의 상태(모멘텀 등)\n",
        "                    }, './models/reg4-1.pt')\n",
        "                    # 를 포함한 딕셔너리를 저장함.\n",
        "        # 이프 조건문 을 만족할 때 모델의 상태를 저장.\n",
        "        # 나중에 토치의 자체함수로 저장 이력을 불러올 수 있다.\n",
        "\n",
        "print('Finished Training')"
      ],
      "execution_count": null,
      "outputs": [
        {
          "output_type": "stream",
          "name": "stdout",
          "text": [
            "Finished Training\n"
          ]
        }
      ]
    },
    {
      "cell_type": "code",
      "metadata": {
        "id": "vMgRW3dU-Zdm",
        "colab": {
          "base_uri": "https://localhost:8080/",
          "height": 472
        },
        "outputId": "74312afa-f31b-4e3a-9aab-9d65bf5f404a"
      },
      "source": [
        "plt.plot(loss_)\n",
        "plt.title(\"Training Loss\")\n",
        "plt.xlabel(\"epoch\")\n",
        "plt.show()"
      ],
      "execution_count": null,
      "outputs": [
        {
          "output_type": "display_data",
          "data": {
            "text/plain": [
              "<Figure size 640x480 with 1 Axes>"
            ],
            "image/png": "[encoded data removed]"
          },
          "metadata": {}
        }
      ]
    },
    {
      "cell_type": "code",
      "source": [
        "checkpoint = torch.load ('./models/reg4-1.pt')\n",
        "# 위에서 torch.save로 저장했던 이력을 torch.load함수로 가져옴.\n",
        "\n",
        "model.load_state_dict(checkpoint['model'])\n",
        "optimizer.load_state_dict(checkpoint['optimizer'])\n",
        "loss_ = checkpoint['loss']\n",
        "ep = checkpoint['epoch']\n",
        "ls = loss_[-1]\n",
        "print(f\"epoch={ep}, loss={ls}\")"
      ],
      "metadata": {
        "colab": {
          "base_uri": "https://localhost:8080/"
        },
        "id": "ZluDgGhZKeG4",
        "outputId": "575ad482-e5d8-4064-d2d4-727ae5d5a778"
      },
      "execution_count": null,
      "outputs": [
        {
          "output_type": "stream",
          "name": "stdout",
          "text": [
            "epoch=163, loss=0.005073651496786624\n"
          ]
        },
        {
          "output_type": "stream",
          "name": "stderr",
          "text": [
            "<ipython-input-24-c9415542d186>:1: FutureWarning: You are using `torch.load` with `weights_only=False` (the current default value), which uses the default pickle module implicitly. It is possible to construct malicious pickle data which will execute arbitrary code during unpickling (See https://github.com/pytorch/pytorch/blob/main/SECURITY.md#untrusted-models for more details). In a future release, the default value for `weights_only` will be flipped to `True`. This limits the functions that could be executed during unpickling. Arbitrary objects will no longer be allowed to be loaded via this mode unless they are explicitly allowlisted by the user via `torch.serialization.add_safe_globals`. We recommend you start setting `weights_only=True` for any use case where you don't have full control of the loaded file. Please open an issue on GitHub for any issues related to this experimental feature.\n",
            "  checkpoint = torch.load ('./models/reg4-1.pt')\n"
          ]
        }
      ]
    },
    {
      "cell_type": "markdown",
      "metadata": {
        "id": "fVxTzgL8-Zdn"
      },
      "source": [
        "## 4.7 모델 평가"
      ]
    },
    {
      "cell_type": "code",
      "source": [
        "# MSE에 루트를 씌운 RMSE 계산.\n",
        "# RMSE는 오차제곱에 다시 루트를 씌워주기 때문에 더 직관적이다.\n",
        "\n",
        "def rmse(dataloader):\n",
        "\n",
        "    with torch.no_grad(): # requires_grad: 비활성화. 파라미터의 기울기를 계산하지 않도록 하여 메모리 사용을 줄이고 계산 속도를 높임\n",
        "        square_sum = 0 # 초기화\n",
        "        num_instances = 0 # 초기화\n",
        "        model.eval() # 평가를 할 때에는 드랍아웃을 비활성화하기 위해서 .eval()을 반드시 사용해야 한다.\n",
        "        for data in dataloader:\n",
        "            inputs, targets = data\n",
        "            outputs = model(inputs)\n",
        "            square_sum += torch.sum((outputs - targets)**2).item() # 텐서에서 어차피 스칼라값만 필요하니까 .item()로 스칼라값만 가져옴.\n",
        "            num_instances += len(targets)\n",
        "\n",
        "    model.train() # 위의 계산이 끝나면 model.eval()에서 model.train()으로 되돌려주기 위해서\n",
        "    return np.sqrt(square_sum/num_instances)\n",
        "\n",
        "# 평가 시 .eval()을 사용해야 하는 이유\n",
        "# 평가 시에는 정규화 기술을 배제하여 온전한 모델로 평가를 해야한다. 따라서 .eval()을 사용한다.\n",
        "# 즉, 드랍아웃이나 배치 정규화 등과 같이 학습 시에만 사용하는 기술들이 적용 된 모델은 평가 시에는 비활성화 해야하며 학습 시 .train()을 사용한다."
      ],
      "metadata": {
        "id": "u-hH4Eq9qJxs"
      },
      "execution_count": null,
      "outputs": []
    },
    {
      "cell_type": "code",
      "source": [
        "train_rmse = rmse(trainloader) # 학습 데이터의 RMSE\n",
        "test_rmse = rmse(testloader) # 시험 데이터의 RMSE\n",
        "\n",
        "print(f\"Train RMSE: {train_rmse}\")\n",
        "print(f\"Test RMSE: {test_rmse}\")\n",
        "\n",
        "# 예시를 위한 단순 비교입니다. 실제 연구에서는 디테일한 비교가 필요합니다.\n",
        "# 예를 들어 20번의 평가 결과의 평균과 표준편차로 우위 비교를 하거나 신뢰구간을 이용합니다.\n",
        "# 데이터를 무작위로 나누고 모델의 초기값도 random initial parameter를 사용했기 때문에 학습을 할 때 마다 결과가 다르게 나올 수 있습니다.\n",
        "# 이 강의에서는 학습의 흐름(for문)과 모델(Regressor) 부분을 주의 깊게 보시면 됩니다."
      ],
      "metadata": {
        "colab": {
          "base_uri": "https://localhost:8080/"
        },
        "id": "FR4BOB1_IjBc",
        "outputId": "c5f30811-dbbc-40e2-c395-157717a7dc47"
      },
      "execution_count": null,
      "outputs": [
        {
          "output_type": "stream",
          "name": "stdout",
          "text": [
            "Train RMSE: 0.06976567336089397\n",
            "Test RMSE: 0.12065991742664979\n"
          ]
        }
      ]
    },
    {
      "cell_type": "code",
      "source": [],
      "metadata": {
        "id": "vZ1xh47wImr9"
      },
      "execution_count": null,
      "outputs": []
    }
  ]
}