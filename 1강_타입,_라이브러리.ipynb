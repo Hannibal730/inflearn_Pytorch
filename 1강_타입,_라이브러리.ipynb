{
  "nbformat": 4,
  "nbformat_minor": 0,
  "metadata": {
    "kernelspec": {
      "display_name": "Python 3",
      "language": "python",
      "name": "python3"
    },
    "language_info": {
      "codemirror_mode": {
        "name": "ipython",
        "version": 3
      },
      "file_extension": ".py",
      "mimetype": "text/x-python",
      "name": "python",
      "nbconvert_exporter": "python",
      "pygments_lexer": "ipython3",
      "version": "3.7.4"
    },
    "colab": {
      "provenance": []
    }
  },
  "cells": [
    {
      "cell_type": "markdown",
      "metadata": {
        "id": "fjPHL5z6no-K"
      },
      "source": [
        "# 1강. 타입, 라이브러리\n",
        "\n",
        "파이썬(Python)은 데이터 분석 분야에서 매우 널리 쓰이는 프로그래밍 언어 중 하나다. 머신러닝, 딥러닝에 관련 된 라이브러리가 매우 많고 적용이 쉽기 때문이다."
      ]
    },
    {
      "cell_type": "code",
      "source": [
        "# 파이썬 버전 체크\n",
        "!python --version"
      ],
      "metadata": {
        "colab": {
          "base_uri": "https://localhost:8080/"
        },
        "id": "XTMq7p7qOlUQ",
        "outputId": "40c854c2-4f65-4841-a9ce-4442e6af6e95"
      },
      "execution_count": null,
      "outputs": [
        {
          "output_type": "stream",
          "name": "stdout",
          "text": [
            "Python 3.9.16\n"
          ]
        }
      ]
    },
    {
      "cell_type": "markdown",
      "metadata": {
        "id": "qj4vuUohno-N"
      },
      "source": [
        "## 1.1 타입\n",
        "타입은 모든 프로그래밍 언어에서 가장 중요한 개념이자 기본이다. 또한 타입에 따라 성질이 다르기 때문에 항상 조심해야 하는 부분이다. 우리가 사용하는 모든  것들은 특정 타입을 가지고 있다. 예를 들어 정수형, 실수형, 문자형, 리스트, 배열 등이 있는데 우리가 만든 연산에서 타입 맞지 않으면 원하는 결과를 얻을 수 없다."
      ]
    },
    {
      "cell_type": "code",
      "metadata": {
        "id": "Q-8deZuwno-O",
        "colab": {
          "base_uri": "https://localhost:8080/"
        },
        "outputId": "793c38d5-9138-4220-93d2-7189d5dc65a9"
      },
      "source": [
        "# 원하는 값을 출력하기\n",
        "print(\"DeepLearning Bro!\")"
      ],
      "execution_count": null,
      "outputs": [
        {
          "output_type": "stream",
          "name": "stdout",
          "text": [
            "DeepLearning Bro!\n"
          ]
        }
      ]
    },
    {
      "cell_type": "markdown",
      "metadata": {
        "id": "QvetlRXyno-Z"
      },
      "source": [
        "### 1.1.1 int"
      ]
    },
    {
      "cell_type": "code",
      "metadata": {
        "id": "p66Qwypvno-b"
      },
      "source": [
        "# 정수형(int)\n",
        "a = 1\n",
        "b = 0\n",
        "c = -1"
      ],
      "execution_count": null,
      "outputs": []
    },
    {
      "cell_type": "code",
      "metadata": {
        "id": "ivc-IYvXno-g",
        "colab": {
          "base_uri": "https://localhost:8080/"
        },
        "outputId": "6540a7d9-29a7-440c-8187-86f5806f3501"
      },
      "source": [
        "# 타입 확인하기\n",
        "print(a, type(a))\n",
        "print(b, type(b))\n",
        "print(c, type(c))"
      ],
      "execution_count": null,
      "outputs": [
        {
          "output_type": "stream",
          "name": "stdout",
          "text": [
            "1 <class 'int'>\n",
            "0 <class 'int'>\n",
            "-1 <class 'int'>\n"
          ]
        }
      ]
    },
    {
      "cell_type": "code",
      "metadata": {
        "id": "oRn83X1Xno-l",
        "colab": {
          "base_uri": "https://localhost:8080/"
        },
        "outputId": "89dc5fb3-e73c-42c8-816c-5ef99edb06cb"
      },
      "source": [
        "# a+b 표현하기\n",
        "d = a+b\n",
        "print(d)"
      ],
      "execution_count": null,
      "outputs": [
        {
          "output_type": "stream",
          "name": "stdout",
          "text": [
            "1\n"
          ]
        }
      ]
    },
    {
      "cell_type": "code",
      "metadata": {
        "id": "VNNYX7Lano-p",
        "colab": {
          "base_uri": "https://localhost:8080/"
        },
        "outputId": "808e04a5-4f31-44f6-ee40-c11a5920daa1"
      },
      "source": [
        "print(a+b)"
      ],
      "execution_count": null,
      "outputs": [
        {
          "output_type": "stream",
          "name": "stdout",
          "text": [
            "1\n"
          ]
        }
      ]
    },
    {
      "cell_type": "markdown",
      "metadata": {
        "id": "K4mTFNN5no-s"
      },
      "source": [
        "### 1.1.2 float"
      ]
    },
    {
      "cell_type": "code",
      "metadata": {
        "id": "QRwnHXuIno-t"
      },
      "source": [
        "# 실수형(float)\n",
        "a = 1.2\n",
        "b = 2.4\n",
        "c = .5"
      ],
      "execution_count": null,
      "outputs": []
    },
    {
      "cell_type": "code",
      "metadata": {
        "id": "xGn7WLU4no-v",
        "colab": {
          "base_uri": "https://localhost:8080/"
        },
        "outputId": "e658a1da-64ac-4977-afa7-3c3923870a29"
      },
      "source": [
        "# 부동 소수점의 문제\n",
        "print(a+b)"
      ],
      "execution_count": null,
      "outputs": [
        {
          "output_type": "stream",
          "name": "stdout",
          "text": [
            "3.5999999999999996\n"
          ]
        }
      ]
    },
    {
      "cell_type": "code",
      "metadata": {
        "id": "UOsSUEfBno-y",
        "colab": {
          "base_uri": "https://localhost:8080/"
        },
        "outputId": "5d558fd8-7ca5-47d1-f062-0f3f160a5ad6"
      },
      "source": [
        "# 타입 확인하기\n",
        "print(a, type(a))\n",
        "print(b, type(b))\n",
        "print(c, type(c))"
      ],
      "execution_count": null,
      "outputs": [
        {
          "output_type": "stream",
          "name": "stdout",
          "text": [
            "1.2 <class 'float'>\n",
            "2.4 <class 'float'>\n",
            "0.5 <class 'float'>\n"
          ]
        }
      ]
    },
    {
      "cell_type": "markdown",
      "metadata": {
        "id": "NxDxVilJno-0"
      },
      "source": [
        "### 1.1.3 str"
      ]
    },
    {
      "cell_type": "code",
      "metadata": {
        "id": "T76m8OR3no-1",
        "colab": {
          "base_uri": "https://localhost:8080/"
        },
        "outputId": "e153a4e6-869c-4546-d34e-a9f4ec019564"
      },
      "source": [
        "# 문자형(string)\n",
        "a = 'deep ' # 'deep'\n",
        "b = 'learning'\n",
        "print(type(a),type(b))"
      ],
      "execution_count": null,
      "outputs": [
        {
          "output_type": "stream",
          "name": "stdout",
          "text": [
            "<class 'str'> <class 'str'>\n"
          ]
        }
      ]
    },
    {
      "cell_type": "code",
      "metadata": {
        "id": "xSYiq523no-3",
        "colab": {
          "base_uri": "https://localhost:8080/"
        },
        "outputId": "57b9aafc-8765-490f-d851-39f43dca8f47"
      },
      "source": [
        "# str의 덧셈\n",
        "print(a+b) # 문자를 붙여주는 역할\n",
        "\n",
        "# str은 사칙연산 중 덧셈 연산만 가능하다."
      ],
      "execution_count": null,
      "outputs": [
        {
          "output_type": "stream",
          "name": "stdout",
          "text": [
            "deep learning\n"
          ]
        }
      ]
    },
    {
      "cell_type": "markdown",
      "metadata": {
        "id": "VUzDh4-kno-5"
      },
      "source": [
        "### 1.1.4 bool"
      ]
    },
    {
      "cell_type": "code",
      "metadata": {
        "id": "5Yr2tctfno-6",
        "colab": {
          "base_uri": "https://localhost:8080/"
        },
        "outputId": "0b482b5d-9127-4d73-acef-c99a5ac277f2"
      },
      "source": [
        "# True and False\n",
        "a = True\n",
        "b = False\n",
        "print(type(a),type(b))"
      ],
      "execution_count": null,
      "outputs": [
        {
          "output_type": "stream",
          "name": "stdout",
          "text": [
            "<class 'bool'> <class 'bool'>\n"
          ]
        }
      ]
    },
    {
      "cell_type": "markdown",
      "metadata": {
        "id": "xOKC6Xdtno-8"
      },
      "source": [
        "### 1.1.5 주의하기"
      ]
    },
    {
      "cell_type": "code",
      "metadata": {
        "id": "EPRcH91Pno-8",
        "colab": {
          "base_uri": "https://localhost:8080/"
        },
        "outputId": "906d2800-09b7-43ab-b01f-ec531c95aace"
      },
      "source": [
        "# 숫자형 문자\n",
        "a = 1\n",
        "b = '1'\n",
        "print(a)\n",
        "print(b)"
      ],
      "execution_count": null,
      "outputs": [
        {
          "output_type": "stream",
          "name": "stdout",
          "text": [
            "1\n",
            "1\n"
          ]
        }
      ]
    },
    {
      "cell_type": "code",
      "metadata": {
        "id": "xjvTSat_no--",
        "colab": {
          "base_uri": "https://localhost:8080/"
        },
        "outputId": "e8955645-52b4-4217-d891-c1bcaa61f2d8"
      },
      "source": [
        "# 간혹 데이터에 숫자처럼 보이지만 문자인 경우들이 있다. 오류에 당황하지 말고 타입을 살펴본다.\n",
        "print(type(a),type(b))"
      ],
      "execution_count": null,
      "outputs": [
        {
          "output_type": "stream",
          "name": "stdout",
          "text": [
            "<class 'int'> <class 'str'>\n"
          ]
        }
      ]
    },
    {
      "cell_type": "code",
      "metadata": {
        "id": "yyVowmWuno_A",
        "colab": {
          "base_uri": "https://localhost:8080/"
        },
        "outputId": "50d1716b-0ddc-4494-88a7-8e7482a812ae"
      },
      "source": [
        "# str을 int로 변환하기\n",
        "c = int(b)\n",
        "print(c, type(c))"
      ],
      "execution_count": null,
      "outputs": [
        {
          "output_type": "stream",
          "name": "stdout",
          "text": [
            "1 <class 'int'>\n"
          ]
        }
      ]
    },
    {
      "cell_type": "markdown",
      "metadata": {
        "id": "JoAz370rno_C"
      },
      "source": [
        "### 1.1.6 리스트"
      ]
    },
    {
      "cell_type": "code",
      "metadata": {
        "id": "YhzWyaYVno_C",
        "colab": {
          "base_uri": "https://localhost:8080/"
        },
        "outputId": "5df24bc4-79fd-4ba8-d6bd-01c620a60de8"
      },
      "source": [
        "# list\n",
        "list1 = [1,2,3,4]\n",
        "print(list1, type(list1))"
      ],
      "execution_count": null,
      "outputs": [
        {
          "output_type": "stream",
          "name": "stdout",
          "text": [
            "[1, 2, 3, 4] <class 'list'>\n"
          ]
        }
      ]
    },
    {
      "cell_type": "code",
      "metadata": {
        "id": "6f0BTbsPno_E",
        "colab": {
          "base_uri": "https://localhost:8080/"
        },
        "outputId": "d1c85990-5bf3-4a01-db44-14e027fdebd0"
      },
      "source": [
        "# element\n",
        "print(list1[0])\n",
        "print(list1[1])\n",
        "print(list1[-1])\n",
        "print(list1[-2])\n",
        "print(list1[:2])\n",
        "print(list1[1:3])"
      ],
      "execution_count": null,
      "outputs": [
        {
          "output_type": "stream",
          "name": "stdout",
          "text": [
            "1\n",
            "2\n",
            "4\n",
            "3\n",
            "[1, 2]\n",
            "[2, 3]\n"
          ]
        }
      ]
    },
    {
      "cell_type": "markdown",
      "metadata": {
        "id": "LdLZIJi9no_H"
      },
      "source": [
        "### 1.1.7 튜플"
      ]
    },
    {
      "cell_type": "code",
      "metadata": {
        "id": "estHkitcno_H",
        "colab": {
          "base_uri": "https://localhost:8080/"
        },
        "outputId": "160668a8-743b-4676-e6d4-7e6379176aeb"
      },
      "source": [
        "# tuple\n",
        "a = (1,2)\n",
        "print(a, type(a))\n",
        "print(a[0])\n",
        "print(a[1])"
      ],
      "execution_count": null,
      "outputs": [
        {
          "output_type": "stream",
          "name": "stdout",
          "text": [
            "(1, 2) <class 'tuple'>\n",
            "1\n",
            "2\n"
          ]
        }
      ]
    },
    {
      "cell_type": "markdown",
      "metadata": {
        "id": "WjhwcNRDno_J"
      },
      "source": [
        "### 1.1.8 딕셔너리"
      ]
    },
    {
      "cell_type": "code",
      "metadata": {
        "id": "rtHK7JOyno_J",
        "colab": {
          "base_uri": "https://localhost:8080/"
        },
        "outputId": "f176f866-cc8b-461e-e575-998d61044b7b"
      },
      "source": [
        "# dict\n",
        "a = {\"class\": ['deep learning', 'machine learning'], \"students\": [40, 20]}\n",
        "print(a)"
      ],
      "execution_count": null,
      "outputs": [
        {
          "output_type": "stream",
          "name": "stdout",
          "text": [
            "{'class': ['deep learning', 'machine learning'], 'students': [40, 20]}\n"
          ]
        }
      ]
    },
    {
      "cell_type": "code",
      "metadata": {
        "id": "6eqGfC2Ino_L",
        "colab": {
          "base_uri": "https://localhost:8080/"
        },
        "outputId": "b20b7052-54d7-44be-872b-ca69d44889d4"
      },
      "source": [
        "print(type(a))"
      ],
      "execution_count": null,
      "outputs": [
        {
          "output_type": "stream",
          "name": "stdout",
          "text": [
            "<class 'dict'>\n"
          ]
        }
      ]
    },
    {
      "cell_type": "code",
      "metadata": {
        "id": "1AFDXTIqno_N",
        "colab": {
          "base_uri": "https://localhost:8080/"
        },
        "outputId": "cdf1b754-e356-4e4d-e9c0-028a36dd3d0f"
      },
      "source": [
        "print(a[\"class\"])"
      ],
      "execution_count": null,
      "outputs": [
        {
          "output_type": "stream",
          "name": "stdout",
          "text": [
            "['deep learning', 'machine learning']\n"
          ]
        }
      ]
    },
    {
      "cell_type": "code",
      "metadata": {
        "id": "phwKORS6no_P",
        "colab": {
          "base_uri": "https://localhost:8080/"
        },
        "outputId": "05caed0e-9c83-4978-99d4-e80f966faa66"
      },
      "source": [
        "print(a[\"students\"])"
      ],
      "execution_count": null,
      "outputs": [
        {
          "output_type": "stream",
          "name": "stdout",
          "text": [
            "[40, 20]\n"
          ]
        }
      ]
    },
    {
      "cell_type": "code",
      "metadata": {
        "id": "Lvx4Tftyno_Q",
        "colab": {
          "base_uri": "https://localhost:8080/"
        },
        "outputId": "84bd0977-7931-4ba5-f0b4-c7ce1f77cad3"
      },
      "source": [
        "print(a[\"students\"][0])"
      ],
      "execution_count": null,
      "outputs": [
        {
          "output_type": "stream",
          "name": "stdout",
          "text": [
            "40\n"
          ]
        }
      ]
    },
    {
      "cell_type": "code",
      "source": [
        "# 딕셔너리는 key와 value로 이루어져 있는 모임이다.\n",
        "# 딕셔너리의 특정 항목만 불러오고 싶은 경우에는 key를 이용한다.\n",
        "# 위 예시에서는 \"class\"와 \"students\"라는 key를 가지고 있다.\n",
        "\n",
        "a.keys() # 딕셔너리의 모든 keys를 확인할 수 있다."
      ],
      "metadata": {
        "colab": {
          "base_uri": "https://localhost:8080/"
        },
        "id": "HzZvkiFEPcvw",
        "outputId": "054e73ec-bc28-4a7f-bb73-0f504c35b8e7"
      },
      "execution_count": null,
      "outputs": [
        {
          "output_type": "execute_result",
          "data": {
            "text/plain": [
              "dict_keys(['class', 'students'])"
            ]
          },
          "metadata": {},
          "execution_count": 23
        }
      ]
    },
    {
      "cell_type": "markdown",
      "metadata": {
        "id": "a62ehZCCno_S"
      },
      "source": [
        "### 1.1.9 Numpy 배열"
      ]
    },
    {
      "cell_type": "code",
      "metadata": {
        "id": "Ihc5VXL1no_S",
        "colab": {
          "base_uri": "https://localhost:8080/"
        },
        "outputId": "b13fb5e6-9c58-450d-c273-3f708986f5bc"
      },
      "source": [
        "import numpy # numpy 라이브러리 불러오기\n",
        "\n",
        "arr = numpy.array([1,2,3,4])\n",
        "print(arr, type(arr))"
      ],
      "execution_count": null,
      "outputs": [
        {
          "output_type": "stream",
          "name": "stdout",
          "text": [
            "[1 2 3 4] <class 'numpy.ndarray'>\n"
          ]
        }
      ]
    },
    {
      "cell_type": "markdown",
      "metadata": {
        "id": "FujR0NcAno_U"
      },
      "source": [
        "#### 이 밖에 set, Tensor, DataFrame, Series, PIL Image 등 다양한 타입이 존재한다."
      ]
    },
    {
      "cell_type": "markdown",
      "metadata": {
        "id": "CeCZ7x3Yno_V"
      },
      "source": [
        "## 1.2 라이브러리\n",
        "import를 통해 미리 만들어 놓은 함수와 클래스를 쉽게 사용할 수 있으며 다양한 라이브러리들이 존재한다."
      ]
    },
    {
      "cell_type": "code",
      "metadata": {
        "id": "xs1emEHyno_V",
        "colab": {
          "base_uri": "https://localhost:8080/"
        },
        "outputId": "86458efa-292e-476c-ca3b-2b1661c14e46"
      },
      "source": [
        "# numpy는 다양한 연산들을 제공하며 데이터 분석에 있어 가장 기본이 되는 라이브러리 중 하나다.\n",
        "\n",
        "import numpy as np # as를 통해서 라이브러리를 약자로 사용할 수 있다.\n",
        "\n",
        "arr = np.array([1,2,3,4])\n",
        "print(arr, type(arr))\n"
      ],
      "execution_count": null,
      "outputs": [
        {
          "output_type": "stream",
          "name": "stdout",
          "text": [
            "[1 2 3 4] <class 'numpy.ndarray'>\n"
          ]
        }
      ]
    },
    {
      "cell_type": "code",
      "metadata": {
        "id": "eRoQb51cno_W"
      },
      "source": [
        "# numpy 내 특정 함수만 불러오기\n",
        "from numpy import array, ones, zeros\n",
        "\n",
        "a = array([1,2,3,4])\n",
        "b = ones(5)\n",
        "c = zeros((5,2))"
      ],
      "execution_count": null,
      "outputs": []
    },
    {
      "cell_type": "code",
      "metadata": {
        "id": "dpg-icY8no_Y",
        "colab": {
          "base_uri": "https://localhost:8080/"
        },
        "outputId": "23606dc6-72bc-40f1-dafe-0053d89d984d"
      },
      "source": [
        "print(a)\n",
        "print(b)\n",
        "print(c)"
      ],
      "execution_count": null,
      "outputs": [
        {
          "output_type": "stream",
          "name": "stdout",
          "text": [
            "[1 2 3 4]\n",
            "[1. 1. 1. 1. 1.]\n",
            "[[0. 0.]\n",
            " [0. 0.]\n",
            " [0. 0.]\n",
            " [0. 0.]\n",
            " [0. 0.]]\n"
          ]
        }
      ]
    }
  ]
}